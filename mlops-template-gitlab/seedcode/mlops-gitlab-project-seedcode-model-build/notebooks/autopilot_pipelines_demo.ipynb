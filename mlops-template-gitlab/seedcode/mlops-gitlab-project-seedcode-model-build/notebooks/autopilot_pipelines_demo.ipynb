{
 "cells": [
  {
   "cell_type": "markdown",
   "id": "c127d1d5",
   "metadata": {
    "pycharm": {
     "name": "#%% md\n"
    }
   },
   "source": [
    "# Move Amazon SageMaker Autopilot ML models from experimentation to production using Amazon SageMaker Pipelines"
   ]
  },
  {
   "cell_type": "markdown",
   "id": "617d0cfe",
   "metadata": {
    "pycharm": {
     "name": "#%% md\n"
    }
   },
   "source": [
    "[Amazon SageMaker Autopilot](https://docs.aws.amazon.com/sagemaker/latest/dg/autopilot-automate-model-development.html) automatically builds, trains, and tunes the best custom machine learning (ML) models based on your data. It’s an automated machine learning (AutoML) solution that eliminates the heavy lifting of handwritten ML models that requires ML expertise. Data scientists need to only provide a tabular dataset and select the target column to predict, and Autopilot automatically infers the problem type, performs data preprocessing and feature engineering, selects the algorithms and training mode, and explores different configurations to find the best ML model. Then you can directly deploy the model to an [Amazon SageMaker](https://aws.amazon.com/sagemaker/) endpoint or iterate on the recommended solutions to further improve the model quality.\n",
    "\n",
    "Although Autopilot eliminates the heavy lifting of building ML models, MLOps engineers still have to create, automate, and manage end-to-end ML workflows. [SageMaker Pipelines](https://docs.aws.amazon.com/sagemaker/latest/dg/pipelines-sdk.html) helps you automate the different steps of the ML lifecycle, including data preprocessing, training, tuning and evaluating ML models, and deploying them. \n",
    "\n",
    "This notebook demonstrates how to leverage SageMaker Autopilot as part of a SageMaker Pipelines end-to-end AutoML training workflow. This notebook has successfully been run using SageMaker Studio with the Amazon Linux 2, Jupyter Lab 3 platform identifier. When running this notebook with older versions of SageMaker Studio or a SageMaker Notebook Instance, the *boto3* and/or *sagemaker* packages might need to be upgraded.\n",
    "\n",
    "*Alternatively, when using SageMaker Autopilot with Ensembling Mode, you may also refer to the notebook example on how to use [SageMaker Pipeline's native AutoML step](../../sagemaker-pipelines/tabular/automl-step/sagemaker_autopilot_pipelines_native_auto_ml_step.ipynb) instead.*"
   ]
  },
  {
   "cell_type": "markdown",
   "id": "d7d6fe5b",
   "metadata": {
    "pycharm": {
     "name": "#%% md\n"
    }
   },
   "source": [
    "## Imports"
   ]
  },
  {
   "cell_type": "code",
   "execution_count": 1,
   "id": "3c823e28",
   "metadata": {
    "collapsed": true,
    "jupyter": {
     "outputs_hidden": true
    },
    "tags": [],
    "pycharm": {
     "name": "#%%\n"
    }
   },
   "outputs": [
    {
     "name": "stdout",
     "output_type": "stream",
     "text": [
      "Traceback (most recent call last):\r\n",
      "  File \"/opt/homebrew/Caskroom/miniforge/base/bin/aws\", line 19, in <module>\r\n",
      "    import awscli.clidriver\r\n",
      "  File \"/opt/homebrew/Caskroom/miniforge/base/lib/python3.9/site-packages/awscli/clidriver.py\", line 17, in <module>\r\n",
      "    import botocore.session\r\n",
      "  File \"/opt/homebrew/Caskroom/miniforge/base/lib/python3.9/site-packages/botocore/session.py\", line 26, in <module>\r\n",
      "    import botocore.client\r\n",
      "  File \"/opt/homebrew/Caskroom/miniforge/base/lib/python3.9/site-packages/botocore/client.py\", line 15, in <module>\r\n",
      "    from botocore import waiter, xform_name\r\n",
      "  File \"/opt/homebrew/Caskroom/miniforge/base/lib/python3.9/site-packages/botocore/waiter.py\", line 18, in <module>\r\n",
      "    from botocore.docs.docstring import WaiterDocstring\r\n",
      "  File \"/opt/homebrew/Caskroom/miniforge/base/lib/python3.9/site-packages/botocore/docs/__init__.py\", line 15, in <module>\r\n",
      "    from botocore.docs.service import ServiceDocumenter\r\n",
      "  File \"/opt/homebrew/Caskroom/miniforge/base/lib/python3.9/site-packages/botocore/docs/service.py\", line 14, in <module>\r\n",
      "    from botocore.docs.client import ClientDocumenter, ClientExceptionsDocumenter\r\n",
      "  File \"/opt/homebrew/Caskroom/miniforge/base/lib/python3.9/site-packages/botocore/docs/client.py\", line 14, in <module>\r\n",
      "    from botocore.docs.example import ResponseExampleDocumenter\r\n",
      "  File \"/opt/homebrew/Caskroom/miniforge/base/lib/python3.9/site-packages/botocore/docs/example.py\", line 13, in <module>\r\n",
      "    from botocore.docs.shape import ShapeDocumenter\r\n",
      "  File \"/opt/homebrew/Caskroom/miniforge/base/lib/python3.9/site-packages/botocore/docs/shape.py\", line 19, in <module>\r\n",
      "    from botocore.utils import is_json_value_header\r\n",
      "  File \"/opt/homebrew/Caskroom/miniforge/base/lib/python3.9/site-packages/botocore/utils.py\", line 37, in <module>\r\n",
      "    import botocore.httpsession\r\n",
      "  File \"/opt/homebrew/Caskroom/miniforge/base/lib/python3.9/site-packages/botocore/httpsession.py\", line 46, in <module>\r\n",
      "    from urllib3.contrib.pyopenssl import (\r\n",
      "  File \"/opt/homebrew/Caskroom/miniforge/base/lib/python3.9/site-packages/urllib3/contrib/pyopenssl.py\", line 50, in <module>\r\n",
      "    import OpenSSL.SSL\r\n",
      "  File \"/opt/homebrew/Caskroom/miniforge/base/lib/python3.9/site-packages/OpenSSL/__init__.py\", line 8, in <module>\r\n",
      "    from OpenSSL import crypto, SSL\r\n",
      "  File \"/opt/homebrew/Caskroom/miniforge/base/lib/python3.9/site-packages/OpenSSL/crypto.py\", line 3268, in <module>\r\n",
      "    _lib.OpenSSL_add_all_algorithms()\r\n",
      "AttributeError: module 'lib' has no attribute 'OpenSSL_add_all_algorithms'\r\n",
      "\u001B[33mWARNING: Requirement '/tmp/sagemaker.tar.gz' looks like a filename, but the file does not exist\u001B[0m\r\n",
      "Processing /tmp/sagemaker.tar.gz\r\n",
      "\u001B[31mERROR: Could not install packages due to an OSError: [Errno 2] No such file or directory: '/private/tmp/sagemaker.tar.gz'\r\n",
      "\u001B[0m\r\n",
      "\u001B[33mWARNING: You are using pip version 21.3.1; however, version 22.3.1 is available.\r\n",
      "You should consider upgrading via the '/Users/luisdias/DataspellProjects/rl-market-simulator/venv/bin/python -m pip install --upgrade pip' command.\u001B[0m\r\n",
      "Traceback (most recent call last):\r\n",
      "  File \"/opt/homebrew/Caskroom/miniforge/base/bin/aws\", line 19, in <module>\r\n",
      "    import awscli.clidriver\r\n",
      "  File \"/opt/homebrew/Caskroom/miniforge/base/lib/python3.9/site-packages/awscli/clidriver.py\", line 17, in <module>\r\n",
      "    import botocore.session\r\n",
      "  File \"/opt/homebrew/Caskroom/miniforge/base/lib/python3.9/site-packages/botocore/session.py\", line 26, in <module>\r\n",
      "    import botocore.client\r\n",
      "  File \"/opt/homebrew/Caskroom/miniforge/base/lib/python3.9/site-packages/botocore/client.py\", line 15, in <module>\r\n",
      "    from botocore import waiter, xform_name\r\n",
      "  File \"/opt/homebrew/Caskroom/miniforge/base/lib/python3.9/site-packages/botocore/waiter.py\", line 18, in <module>\r\n",
      "    from botocore.docs.docstring import WaiterDocstring\r\n",
      "  File \"/opt/homebrew/Caskroom/miniforge/base/lib/python3.9/site-packages/botocore/docs/__init__.py\", line 15, in <module>\r\n",
      "    from botocore.docs.service import ServiceDocumenter\r\n",
      "  File \"/opt/homebrew/Caskroom/miniforge/base/lib/python3.9/site-packages/botocore/docs/service.py\", line 14, in <module>\r\n",
      "    from botocore.docs.client import ClientDocumenter, ClientExceptionsDocumenter\r\n",
      "  File \"/opt/homebrew/Caskroom/miniforge/base/lib/python3.9/site-packages/botocore/docs/client.py\", line 14, in <module>\r\n",
      "    from botocore.docs.example import ResponseExampleDocumenter\r\n",
      "  File \"/opt/homebrew/Caskroom/miniforge/base/lib/python3.9/site-packages/botocore/docs/example.py\", line 13, in <module>\r\n",
      "    from botocore.docs.shape import ShapeDocumenter\r\n",
      "  File \"/opt/homebrew/Caskroom/miniforge/base/lib/python3.9/site-packages/botocore/docs/shape.py\", line 19, in <module>\r\n",
      "    from botocore.utils import is_json_value_header\r\n",
      "  File \"/opt/homebrew/Caskroom/miniforge/base/lib/python3.9/site-packages/botocore/utils.py\", line 37, in <module>\r\n",
      "    import botocore.httpsession\r\n",
      "  File \"/opt/homebrew/Caskroom/miniforge/base/lib/python3.9/site-packages/botocore/httpsession.py\", line 46, in <module>\r\n",
      "    from urllib3.contrib.pyopenssl import (\r\n",
      "  File \"/opt/homebrew/Caskroom/miniforge/base/lib/python3.9/site-packages/urllib3/contrib/pyopenssl.py\", line 50, in <module>\r\n",
      "    import OpenSSL.SSL\r\n",
      "  File \"/opt/homebrew/Caskroom/miniforge/base/lib/python3.9/site-packages/OpenSSL/__init__.py\", line 8, in <module>\r\n",
      "    from OpenSSL import crypto, SSL\r\n",
      "  File \"/opt/homebrew/Caskroom/miniforge/base/lib/python3.9/site-packages/OpenSSL/crypto.py\", line 3268, in <module>\r\n",
      "    _lib.OpenSSL_add_all_algorithms()\r\n",
      "AttributeError: module 'lib' has no attribute 'OpenSSL_add_all_algorithms'\r\n",
      "\u001B[33mWARNING: Requirement '/tmp/awscli.tar.gz' looks like a filename, but the file does not exist\u001B[0m\r\n",
      "Processing /tmp/awscli.tar.gz\r\n",
      "\u001B[31mERROR: Could not install packages due to an OSError: [Errno 2] No such file or directory: '/private/tmp/awscli.tar.gz'\r\n",
      "\u001B[0m\r\n",
      "\u001B[33mWARNING: You are using pip version 21.3.1; however, version 22.3.1 is available.\r\n",
      "You should consider upgrading via the '/Users/luisdias/DataspellProjects/rl-market-simulator/venv/bin/python -m pip install --upgrade pip' command.\u001B[0m\r\n",
      "Traceback (most recent call last):\r\n",
      "  File \"/opt/homebrew/Caskroom/miniforge/base/bin/aws\", line 19, in <module>\r\n",
      "    import awscli.clidriver\r\n",
      "  File \"/opt/homebrew/Caskroom/miniforge/base/lib/python3.9/site-packages/awscli/clidriver.py\", line 17, in <module>\r\n",
      "    import botocore.session\r\n",
      "  File \"/opt/homebrew/Caskroom/miniforge/base/lib/python3.9/site-packages/botocore/session.py\", line 26, in <module>\r\n",
      "    import botocore.client\r\n",
      "  File \"/opt/homebrew/Caskroom/miniforge/base/lib/python3.9/site-packages/botocore/client.py\", line 15, in <module>\r\n",
      "    from botocore import waiter, xform_name\r\n",
      "  File \"/opt/homebrew/Caskroom/miniforge/base/lib/python3.9/site-packages/botocore/waiter.py\", line 18, in <module>\r\n",
      "    from botocore.docs.docstring import WaiterDocstring\r\n",
      "  File \"/opt/homebrew/Caskroom/miniforge/base/lib/python3.9/site-packages/botocore/docs/__init__.py\", line 15, in <module>\r\n",
      "    from botocore.docs.service import ServiceDocumenter\r\n",
      "  File \"/opt/homebrew/Caskroom/miniforge/base/lib/python3.9/site-packages/botocore/docs/service.py\", line 14, in <module>\r\n",
      "    from botocore.docs.client import ClientDocumenter, ClientExceptionsDocumenter\r\n",
      "  File \"/opt/homebrew/Caskroom/miniforge/base/lib/python3.9/site-packages/botocore/docs/client.py\", line 14, in <module>\r\n",
      "    from botocore.docs.example import ResponseExampleDocumenter\r\n",
      "  File \"/opt/homebrew/Caskroom/miniforge/base/lib/python3.9/site-packages/botocore/docs/example.py\", line 13, in <module>\r\n",
      "    from botocore.docs.shape import ShapeDocumenter\r\n",
      "  File \"/opt/homebrew/Caskroom/miniforge/base/lib/python3.9/site-packages/botocore/docs/shape.py\", line 19, in <module>\r\n",
      "    from botocore.utils import is_json_value_header\r\n",
      "  File \"/opt/homebrew/Caskroom/miniforge/base/lib/python3.9/site-packages/botocore/utils.py\", line 37, in <module>\r\n",
      "    import botocore.httpsession\r\n",
      "  File \"/opt/homebrew/Caskroom/miniforge/base/lib/python3.9/site-packages/botocore/httpsession.py\", line 46, in <module>\r\n",
      "    from urllib3.contrib.pyopenssl import (\r\n",
      "  File \"/opt/homebrew/Caskroom/miniforge/base/lib/python3.9/site-packages/urllib3/contrib/pyopenssl.py\", line 50, in <module>\r\n",
      "    import OpenSSL.SSL\r\n",
      "  File \"/opt/homebrew/Caskroom/miniforge/base/lib/python3.9/site-packages/OpenSSL/__init__.py\", line 8, in <module>\r\n",
      "    from OpenSSL import crypto, SSL\r\n",
      "  File \"/opt/homebrew/Caskroom/miniforge/base/lib/python3.9/site-packages/OpenSSL/crypto.py\", line 3268, in <module>\r\n",
      "    _lib.OpenSSL_add_all_algorithms()\r\n",
      "AttributeError: module 'lib' has no attribute 'OpenSSL_add_all_algorithms'\r\n",
      "\u001B[33mWARNING: Requirement '/tmp/boto3.tar.gz' looks like a filename, but the file does not exist\u001B[0m\r\n",
      "Processing /tmp/boto3.tar.gz\r\n",
      "\u001B[31mERROR: Could not install packages due to an OSError: [Errno 2] No such file or directory: '/private/tmp/boto3.tar.gz'\r\n",
      "\u001B[0m\r\n",
      "\u001B[33mWARNING: You are using pip version 21.3.1; however, version 22.3.1 is available.\r\n",
      "You should consider upgrading via the '/Users/luisdias/DataspellProjects/rl-market-simulator/venv/bin/python -m pip install --upgrade pip' command.\u001B[0m\r\n",
      "Traceback (most recent call last):\r\n",
      "  File \"/opt/homebrew/Caskroom/miniforge/base/bin/aws\", line 19, in <module>\r\n",
      "    import awscli.clidriver\r\n",
      "  File \"/opt/homebrew/Caskroom/miniforge/base/lib/python3.9/site-packages/awscli/clidriver.py\", line 17, in <module>\r\n",
      "    import botocore.session\r\n",
      "  File \"/opt/homebrew/Caskroom/miniforge/base/lib/python3.9/site-packages/botocore/session.py\", line 26, in <module>\r\n",
      "    import botocore.client\r\n",
      "  File \"/opt/homebrew/Caskroom/miniforge/base/lib/python3.9/site-packages/botocore/client.py\", line 15, in <module>\r\n",
      "    from botocore import waiter, xform_name\r\n",
      "  File \"/opt/homebrew/Caskroom/miniforge/base/lib/python3.9/site-packages/botocore/waiter.py\", line 18, in <module>\r\n",
      "    from botocore.docs.docstring import WaiterDocstring\r\n",
      "  File \"/opt/homebrew/Caskroom/miniforge/base/lib/python3.9/site-packages/botocore/docs/__init__.py\", line 15, in <module>\r\n",
      "    from botocore.docs.service import ServiceDocumenter\r\n",
      "  File \"/opt/homebrew/Caskroom/miniforge/base/lib/python3.9/site-packages/botocore/docs/service.py\", line 14, in <module>\r\n",
      "    from botocore.docs.client import ClientDocumenter, ClientExceptionsDocumenter\r\n",
      "  File \"/opt/homebrew/Caskroom/miniforge/base/lib/python3.9/site-packages/botocore/docs/client.py\", line 14, in <module>\r\n",
      "    from botocore.docs.example import ResponseExampleDocumenter\r\n",
      "  File \"/opt/homebrew/Caskroom/miniforge/base/lib/python3.9/site-packages/botocore/docs/example.py\", line 13, in <module>\r\n",
      "    from botocore.docs.shape import ShapeDocumenter\r\n",
      "  File \"/opt/homebrew/Caskroom/miniforge/base/lib/python3.9/site-packages/botocore/docs/shape.py\", line 19, in <module>\r\n",
      "    from botocore.utils import is_json_value_header\r\n",
      "  File \"/opt/homebrew/Caskroom/miniforge/base/lib/python3.9/site-packages/botocore/utils.py\", line 37, in <module>\r\n",
      "    import botocore.httpsession\r\n",
      "  File \"/opt/homebrew/Caskroom/miniforge/base/lib/python3.9/site-packages/botocore/httpsession.py\", line 46, in <module>\r\n",
      "    from urllib3.contrib.pyopenssl import (\r\n",
      "  File \"/opt/homebrew/Caskroom/miniforge/base/lib/python3.9/site-packages/urllib3/contrib/pyopenssl.py\", line 50, in <module>\r\n",
      "    import OpenSSL.SSL\r\n",
      "  File \"/opt/homebrew/Caskroom/miniforge/base/lib/python3.9/site-packages/OpenSSL/__init__.py\", line 8, in <module>\r\n",
      "    from OpenSSL import crypto, SSL\r\n",
      "  File \"/opt/homebrew/Caskroom/miniforge/base/lib/python3.9/site-packages/OpenSSL/crypto.py\", line 3268, in <module>\r\n",
      "    _lib.OpenSSL_add_all_algorithms()\r\n",
      "AttributeError: module 'lib' has no attribute 'OpenSSL_add_all_algorithms'\r\n",
      "\u001B[33mWARNING: Requirement '/tmp/botocore.tar.gz' looks like a filename, but the file does not exist\u001B[0m\r\n",
      "Processing /tmp/botocore.tar.gz\r\n",
      "\u001B[31mERROR: Could not install packages due to an OSError: [Errno 2] No such file or directory: '/private/tmp/botocore.tar.gz'\r\n",
      "\u001B[0m\r\n",
      "\u001B[33mWARNING: You are using pip version 21.3.1; however, version 22.3.1 is available.\r\n",
      "You should consider upgrading via the '/Users/luisdias/DataspellProjects/rl-market-simulator/venv/bin/python -m pip install --upgrade pip' command.\u001B[0m\r\n"
     ]
    }
   ],
   "source": [
    "# Install Reinvent Wheels\n",
    "! aws s3 cp s3://reinvent-rc-wheels/2022/dist/sagemaker.tar.gz /tmp/ --region us-west-2\n",
    "! pip install /tmp/sagemaker.tar.gz --force-reinstall\n",
    "\n",
    "! aws s3 cp s3://reinvent-rc-wheels/2022/boto3/awscli.tar.gz /tmp/ --region us-west-2\n",
    "! pip install /tmp/awscli.tar.gz --force-reinstall\n",
    "\n",
    "! aws s3 cp s3://reinvent-rc-wheels/2022/boto3/boto3.tar.gz /tmp/ --region us-west-2\n",
    "! pip install /tmp/boto3.tar.gz --force-reinstall\n",
    "\n",
    "! aws s3 cp s3://reinvent-rc-wheels/2022/boto3/botocore.tar.gz /tmp/ --region us-west-2\n",
    "! pip install /tmp/botocore.tar.gz --force-reinstall"
   ]
  },
  {
   "cell_type": "code",
   "execution_count": 1,
   "outputs": [
    {
     "name": "stdout",
     "output_type": "stream",
     "text": [
      "/Users/luisdias/DataspellProjects/mll-mlops-model-pipeline-template\n"
     ]
    }
   ],
   "source": [
    "%cd .."
   ],
   "metadata": {
    "collapsed": false,
    "pycharm": {
     "name": "#%%\n"
    }
   }
  },
  {
   "cell_type": "code",
   "execution_count": 3,
   "outputs": [
    {
     "data": {
      "text/plain": "['src/data/MarkupCallRequests_2.json',\n 'src/data/MarkupCallRequests_10.json',\n 'src/data/MarkupCallRequests_3.json',\n 'src/data/MarkupCallRequests_8.json',\n 'src/data/MarkupCallRequests_4.json',\n 'src/data/MarkupCallRequests_5.json',\n 'src/data/MarkupCallRequests_9.json',\n 'src/data/MarkupCallRequests_6.json',\n 'src/data/MarkupCallRequests_7.json',\n 'src/data/MarkupCallRequests_1.json']"
     },
     "execution_count": 3,
     "metadata": {},
     "output_type": "execute_result"
    }
   ],
   "source": [
    "payload_list = [os.path.join('src/data', f) for f in os.listdir('src/data') if f.endswith('.json')]\n",
    "payload_list"
   ],
   "metadata": {
    "collapsed": false,
    "pycharm": {
     "name": "#%%\n"
    }
   }
  },
  {
   "cell_type": "code",
   "execution_count": 10,
   "id": "b8732357",
   "metadata": {
    "tags": [],
    "pycharm": {
     "name": "#%%\n"
    }
   },
   "outputs": [],
   "source": [
    "import boto3\n",
    "import os\n",
    "import pandas as pd\n",
    "import sagemaker\n",
    "import time\n",
    "from datetime import datetime\n",
    "from sagemaker import ModelPackage\n",
    "from sagemaker.image_uris import retrieve\n",
    "from sagemaker.lambda_helper import Lambda\n",
    "from sagemaker.processing import ProcessingInput, ProcessingOutput\n",
    "from sagemaker.sklearn.processing import SKLearnProcessor\n",
    "from sagemaker.workflow.callback_step import CallbackStep\n",
    "from sagemaker.workflow.lambda_step import LambdaStep\n",
    "from sagemaker.workflow.parameters import ParameterInteger, ParameterString\n",
    "from sagemaker.workflow.pipeline import Pipeline\n",
    "from sagemaker.workflow.steps import ProcessingStep, CacheConfig"
   ]
  },
  {
   "cell_type": "markdown",
   "id": "fef84e8b",
   "metadata": {
    "pycharm": {
     "name": "#%% md\n"
    }
   },
   "source": [
    "## Initialization"
   ]
  },
  {
   "cell_type": "code",
   "execution_count": 16,
   "id": "2255e825",
   "metadata": {
    "tags": [],
    "pycharm": {
     "name": "#%%\n"
    }
   },
   "outputs": [
    {
     "ename": "ValueError",
     "evalue": "Must setup local AWS configuration with a region supported by SageMaker.",
     "output_type": "error",
     "traceback": [
      "\u001B[0;31m---------------------------------------------------------------------------\u001B[0m",
      "\u001B[0;31mValueError\u001B[0m                                Traceback (most recent call last)",
      "Cell \u001B[0;32mIn[16], line 5\u001B[0m\n\u001B[1;32m      3\u001B[0m sagemaker_client \u001B[38;5;241m=\u001B[39m boto_session\u001B[38;5;241m.\u001B[39mclient(\u001B[38;5;124m\"\u001B[39m\u001B[38;5;124msagemaker\u001B[39m\u001B[38;5;124m\"\u001B[39m,region_name\u001B[38;5;241m=\u001B[39m\u001B[38;5;124m'\u001B[39m\u001B[38;5;124meu-central-1\u001B[39m\u001B[38;5;124m'\u001B[39m)\n\u001B[1;32m      4\u001B[0m lambda_client \u001B[38;5;241m=\u001B[39m boto_session\u001B[38;5;241m.\u001B[39mclient(\u001B[38;5;124m\"\u001B[39m\u001B[38;5;124mlambda\u001B[39m\u001B[38;5;124m\"\u001B[39m,region_name\u001B[38;5;241m=\u001B[39m\u001B[38;5;124m'\u001B[39m\u001B[38;5;124meu-central-1\u001B[39m\u001B[38;5;124m'\u001B[39m)\n\u001B[0;32m----> 5\u001B[0m sagemaker_session \u001B[38;5;241m=\u001B[39m \u001B[43msagemaker\u001B[49m\u001B[38;5;241;43m.\u001B[39;49m\u001B[43msession\u001B[49m\u001B[38;5;241;43m.\u001B[39;49m\u001B[43mSession\u001B[49m\u001B[43m(\u001B[49m\n\u001B[1;32m      6\u001B[0m \u001B[43m    \u001B[49m\u001B[43mboto_session\u001B[49m\u001B[38;5;241;43m=\u001B[39;49m\u001B[43mboto_session\u001B[49m\u001B[43m,\u001B[49m\u001B[43m \u001B[49m\u001B[43msagemaker_client\u001B[49m\u001B[38;5;241;43m=\u001B[39;49m\u001B[43msagemaker_client\u001B[49m\n\u001B[1;32m      7\u001B[0m \u001B[43m)\u001B[49m\n\u001B[1;32m      8\u001B[0m sqs_client \u001B[38;5;241m=\u001B[39m boto_session\u001B[38;5;241m.\u001B[39mclient(\n\u001B[1;32m      9\u001B[0m     \u001B[38;5;124m\"\u001B[39m\u001B[38;5;124msqs\u001B[39m\u001B[38;5;124m\"\u001B[39m,\n\u001B[1;32m     10\u001B[0m     region_name\u001B[38;5;241m=\u001B[39maws_region,\n\u001B[1;32m     11\u001B[0m     endpoint_url\u001B[38;5;241m=\u001B[39m\u001B[38;5;124mf\u001B[39m\u001B[38;5;124m\"\u001B[39m\u001B[38;5;124mhttps://sqs.\u001B[39m\u001B[38;5;132;01m{\u001B[39;00maws_region\u001B[38;5;132;01m}\u001B[39;00m\u001B[38;5;124m.amazonaws.com\u001B[39m\u001B[38;5;124m\"\u001B[39m,\n\u001B[1;32m     12\u001B[0m )\n\u001B[1;32m     13\u001B[0m DATASET_PATH \u001B[38;5;241m=\u001B[39m \u001B[38;5;124m'\u001B[39m\u001B[38;5;124msrc/data/diabetic_transformed.csv\u001B[39m\u001B[38;5;124m'\u001B[39m\n",
      "File \u001B[0;32m~/DataspellProjects/rl-market-simulator/venv/lib/python3.9/site-packages/sagemaker/session.py:127\u001B[0m, in \u001B[0;36mSession.__init__\u001B[0;34m(self, boto_session, sagemaker_client, sagemaker_runtime_client, sagemaker_featurestore_runtime_client, default_bucket, settings)\u001B[0m\n\u001B[1;32m    124\u001B[0m \u001B[38;5;28mself\u001B[39m\u001B[38;5;241m.\u001B[39mlambda_client \u001B[38;5;241m=\u001B[39m \u001B[38;5;28;01mNone\u001B[39;00m\n\u001B[1;32m    125\u001B[0m \u001B[38;5;28mself\u001B[39m\u001B[38;5;241m.\u001B[39msettings \u001B[38;5;241m=\u001B[39m settings\n\u001B[0;32m--> 127\u001B[0m \u001B[38;5;28;43mself\u001B[39;49m\u001B[38;5;241;43m.\u001B[39;49m\u001B[43m_initialize\u001B[49m\u001B[43m(\u001B[49m\n\u001B[1;32m    128\u001B[0m \u001B[43m    \u001B[49m\u001B[43mboto_session\u001B[49m\u001B[38;5;241;43m=\u001B[39;49m\u001B[43mboto_session\u001B[49m\u001B[43m,\u001B[49m\n\u001B[1;32m    129\u001B[0m \u001B[43m    \u001B[49m\u001B[43msagemaker_client\u001B[49m\u001B[38;5;241;43m=\u001B[39;49m\u001B[43msagemaker_client\u001B[49m\u001B[43m,\u001B[49m\n\u001B[1;32m    130\u001B[0m \u001B[43m    \u001B[49m\u001B[43msagemaker_runtime_client\u001B[49m\u001B[38;5;241;43m=\u001B[39;49m\u001B[43msagemaker_runtime_client\u001B[49m\u001B[43m,\u001B[49m\n\u001B[1;32m    131\u001B[0m \u001B[43m    \u001B[49m\u001B[43msagemaker_featurestore_runtime_client\u001B[49m\u001B[38;5;241;43m=\u001B[39;49m\u001B[43msagemaker_featurestore_runtime_client\u001B[49m\u001B[43m,\u001B[49m\n\u001B[1;32m    132\u001B[0m \u001B[43m\u001B[49m\u001B[43m)\u001B[49m\n",
      "File \u001B[0;32m~/DataspellProjects/rl-market-simulator/venv/lib/python3.9/site-packages/sagemaker/session.py:150\u001B[0m, in \u001B[0;36mSession._initialize\u001B[0;34m(self, boto_session, sagemaker_client, sagemaker_runtime_client, sagemaker_featurestore_runtime_client)\u001B[0m\n\u001B[1;32m    148\u001B[0m \u001B[38;5;28mself\u001B[39m\u001B[38;5;241m.\u001B[39m_region_name \u001B[38;5;241m=\u001B[39m \u001B[38;5;28mself\u001B[39m\u001B[38;5;241m.\u001B[39mboto_session\u001B[38;5;241m.\u001B[39mregion_name\n\u001B[1;32m    149\u001B[0m \u001B[38;5;28;01mif\u001B[39;00m \u001B[38;5;28mself\u001B[39m\u001B[38;5;241m.\u001B[39m_region_name \u001B[38;5;129;01mis\u001B[39;00m \u001B[38;5;28;01mNone\u001B[39;00m:\n\u001B[0;32m--> 150\u001B[0m     \u001B[38;5;28;01mraise\u001B[39;00m \u001B[38;5;167;01mValueError\u001B[39;00m(\n\u001B[1;32m    151\u001B[0m         \u001B[38;5;124m\"\u001B[39m\u001B[38;5;124mMust setup local AWS configuration with a region supported by SageMaker.\u001B[39m\u001B[38;5;124m\"\u001B[39m\n\u001B[1;32m    152\u001B[0m     )\n\u001B[1;32m    154\u001B[0m \u001B[38;5;28mself\u001B[39m\u001B[38;5;241m.\u001B[39msagemaker_client \u001B[38;5;241m=\u001B[39m sagemaker_client \u001B[38;5;129;01mor\u001B[39;00m \u001B[38;5;28mself\u001B[39m\u001B[38;5;241m.\u001B[39mboto_session\u001B[38;5;241m.\u001B[39mclient(\u001B[38;5;124m\"\u001B[39m\u001B[38;5;124msagemaker\u001B[39m\u001B[38;5;124m\"\u001B[39m)\n\u001B[1;32m    155\u001B[0m prepend_user_agent(\u001B[38;5;28mself\u001B[39m\u001B[38;5;241m.\u001B[39msagemaker_client)\n",
      "\u001B[0;31mValueError\u001B[0m: Must setup local AWS configuration with a region supported by SageMaker."
     ]
    }
   ],
   "source": [
    "boto_session = boto3.session.Session()\n",
    "aws_region = 'eu-central-1'\n",
    "sagemaker_client = boto_session.client(\"sagemaker\",region_name='eu-central-1')\n",
    "lambda_client = boto_session.client(\"lambda\",region_name='eu-central-1')\n",
    "sagemaker_session = sagemaker.session.Session(\n",
    "    boto_session=boto_session, sagemaker_client=sagemaker_client\n",
    ")\n",
    "sqs_client = boto_session.client(\n",
    "    \"sqs\",\n",
    "    region_name=aws_region,\n",
    "    endpoint_url=f\"https://sqs.{aws_region}.amazonaws.com\",\n",
    ")\n",
    "DATASET_PATH = 'src/data/diabetic_transformed.csv'\n",
    "BUCKET_NAME = sagemaker_session.default_bucket()\n",
    "BUCKET_NAME = \"sagemaker-eu-central-1-961105418118\"\n",
    "PROCESSING_JOB_LOCAL_BASE_PATH = \"/opt/ml/processing\""
   ]
  },
  {
   "cell_type": "markdown",
   "id": "023397c5",
   "metadata": {
    "pycharm": {
     "name": "#%% md\n"
    }
   },
   "source": [
    "## IAM permissions"
   ]
  },
  {
   "cell_type": "markdown",
   "id": "1cdbad2a",
   "metadata": {
    "pycharm": {
     "name": "#%% md\n"
    }
   },
   "source": [
    "For demo purposes, this notebook simplifies the IAM permissions configuration when [creating required IAM roles](https://docs.aws.amazon.com/IAM/latest/UserGuide/id_roles_create_for-service.html) that can be assumed by the SageMaker and Lambda services. The following managed policies are sufficient to run this notebook but should be further scoped down to improve security (least privilege principle).\n",
    "- Lambda Execution Role:\n",
    "  - AmazonSageMakerFullAccess\n",
    "  - AmazonSQSFullAccess\n",
    "- SageMaker Execution Role:\n",
    "  - AmazonSageMakerFullAccess\n",
    "  - AWSLambda_FullAccess\n",
    "  - AmazonSQSFullAccess"
   ]
  },
  {
   "cell_type": "code",
   "execution_count": 5,
   "id": "860f43cb",
   "metadata": {
    "tags": [],
    "pycharm": {
     "name": "#%%\n"
    }
   },
   "outputs": [
    {
     "name": "stderr",
     "output_type": "stream",
     "text": [
      "Couldn't call 'get_role' to get Role ARN from role name luis.dias@tui.com to get Role path.\n"
     ]
    },
    {
     "ename": "ValueError",
     "evalue": "The current AWS identity is not a role: arn:aws:iam::349928753634:user/luis.dias@tui.com, therefore it cannot be used as a SageMaker execution role",
     "output_type": "error",
     "traceback": [
      "\u001B[0;31m---------------------------------------------------------------------------\u001B[0m",
      "\u001B[0;31mValueError\u001B[0m                                Traceback (most recent call last)",
      "Cell \u001B[0;32mIn[5], line 6\u001B[0m\n\u001B[1;32m      3\u001B[0m aws_account_id \u001B[38;5;241m=\u001B[39m boto3\u001B[38;5;241m.\u001B[39mclient(\u001B[38;5;124m\"\u001B[39m\u001B[38;5;124msts\u001B[39m\u001B[38;5;124m\"\u001B[39m)\u001B[38;5;241m.\u001B[39mget_caller_identity()\u001B[38;5;241m.\u001B[39mget(\u001B[38;5;124m\"\u001B[39m\u001B[38;5;124mAccount\u001B[39m\u001B[38;5;124m\"\u001B[39m)\n\u001B[1;32m      4\u001B[0m LAMBDA_EXECUTION_ROLE_ARN \u001B[38;5;241m=\u001B[39m \u001B[38;5;124mf\u001B[39m\u001B[38;5;124m\"\u001B[39m\u001B[38;5;124marn:aws:iam::\u001B[39m\u001B[38;5;132;01m{\u001B[39;00maws_account_id\u001B[38;5;132;01m}\u001B[39;00m\u001B[38;5;124m:role/\u001B[39m\u001B[38;5;132;01m{\u001B[39;00mlambda_execution_role_name\u001B[38;5;132;01m}\u001B[39;00m\u001B[38;5;124m\"\u001B[39m  \u001B[38;5;66;03m# to be assumed by the Lambda service\u001B[39;00m\n\u001B[1;32m      5\u001B[0m SAGEMAKER_EXECUTION_ROLE_ARN \u001B[38;5;241m=\u001B[39m (\n\u001B[0;32m----> 6\u001B[0m     \u001B[43msagemaker\u001B[49m\u001B[38;5;241;43m.\u001B[39;49m\u001B[43mget_execution_role\u001B[49m\u001B[43m(\u001B[49m\u001B[43m)\u001B[49m\n\u001B[1;32m      7\u001B[0m )  \u001B[38;5;66;03m# to be assumed by the SageMaker service\u001B[39;00m\n",
      "File \u001B[0;32m~/DataspellProjects/rl-market-simulator/venv/lib/python3.9/site-packages/sagemaker/session.py:4680\u001B[0m, in \u001B[0;36mget_execution_role\u001B[0;34m(sagemaker_session)\u001B[0m\n\u001B[1;32m   4675\u001B[0m     \u001B[38;5;28;01mreturn\u001B[39;00m arn\n\u001B[1;32m   4676\u001B[0m message \u001B[38;5;241m=\u001B[39m (\n\u001B[1;32m   4677\u001B[0m     \u001B[38;5;124m\"\u001B[39m\u001B[38;5;124mThe current AWS identity is not a role: \u001B[39m\u001B[38;5;132;01m{}\u001B[39;00m\u001B[38;5;124m, therefore it cannot be used as a \u001B[39m\u001B[38;5;124m\"\u001B[39m\n\u001B[1;32m   4678\u001B[0m     \u001B[38;5;124m\"\u001B[39m\u001B[38;5;124mSageMaker execution role\u001B[39m\u001B[38;5;124m\"\u001B[39m\n\u001B[1;32m   4679\u001B[0m )\n\u001B[0;32m-> 4680\u001B[0m \u001B[38;5;28;01mraise\u001B[39;00m \u001B[38;5;167;01mValueError\u001B[39;00m(message\u001B[38;5;241m.\u001B[39mformat(arn))\n",
      "\u001B[0;31mValueError\u001B[0m: The current AWS identity is not a role: arn:aws:iam::349928753634:user/luis.dias@tui.com, therefore it cannot be used as a SageMaker execution role"
     ]
    }
   ],
   "source": [
    "# TODO: need to replace the lambda execution role name by its actual value\n",
    "lambda_execution_role_name = \"lambda_autopilot_tests\"\n",
    "aws_account_id = boto3.client(\"sts\").get_caller_identity().get(\"Account\")\n",
    "LAMBDA_EXECUTION_ROLE_ARN = f\"arn:aws:iam::{aws_account_id}:role/{lambda_execution_role_name}\"  # to be assumed by the Lambda service\n",
    "SAGEMAKER_EXECUTION_ROLE_ARN = (\n",
    "    sagemaker.get_execution_role()\n",
    ")  # to be assumed by the SageMaker service"
   ]
  },
  {
   "cell_type": "markdown",
   "id": "cced7e30",
   "metadata": {
    "pycharm": {
     "name": "#%% md\n"
    }
   },
   "source": [
    "## SageMaker Pipelines parameters"
   ]
  },
  {
   "cell_type": "code",
   "execution_count": 5,
   "id": "e2f8907b",
   "metadata": {
    "tags": [],
    "pycharm": {
     "name": "#%%\n"
    }
   },
   "outputs": [],
   "source": [
    "cache_config = CacheConfig(enable_caching=False)\n",
    "autopilot_job_name = ParameterString(\n",
    "    name=\"AutopilotJobName\",\n",
    "    default_value=\"autopilot-\" + datetime.now().strftime(\"%Y-%m-%d-%H-%M-%S\"),\n",
    ")\n",
    "model_package_name = ParameterString(\n",
    "    name=\"ModelPackageName\",\n",
    "    default_value=autopilot_job_name.default_value + \"-model-package\",\n",
    ")\n",
    "target_attribute_name = ParameterString(name=\"TargetAttributeName\", default_value=\"readmitted\")\n",
    "train_val_dataset_s3_path = ParameterString(\n",
    "    name=\"TrainValDatasetS3Path\",\n",
    "    default_value=sagemaker.s3.s3_path_join(\n",
    "        \"s3://\", BUCKET_NAME, autopilot_job_name.default_value, \"data\", \"train_val.csv\"\n",
    "    ),\n",
    ")\n",
    "x_test_s3_path = ParameterString(\n",
    "    name=\"XTestDatasetS3Path\",\n",
    "    default_value=sagemaker.s3.s3_path_join(\n",
    "        \"s3://\", BUCKET_NAME, autopilot_job_name.default_value, \"data\", \"x_test.csv\"\n",
    "    ),\n",
    ")\n",
    "y_test_s3_path = ParameterString(\n",
    "    name=\"YTestDatasetS3Path\",\n",
    "    default_value=sagemaker.s3.s3_path_join(\n",
    "        \"s3://\", BUCKET_NAME, autopilot_job_name.default_value, \"data\", \"y_test.csv\"\n",
    "    ),\n",
    ")\n",
    "max_autopilot_candidates = ParameterInteger(name=\"MaxAutopilotCandidates\", default_value=16)\n",
    "max_autopilot_job_runtime = ParameterInteger(\n",
    "    name=\"MaxAutoMLJobRuntimeInSeconds\", default_value=7200  # 2 hours\n",
    ")\n",
    "max_autopilot_training_job_runtime = ParameterInteger(\n",
    "    name=\"MaxRuntimePerTrainingJobInSeconds\", default_value=3600\n",
    ")  # 1 hour\n",
    "instance_count = ParameterInteger(name=\"InstanceCount\", default_value=1)\n",
    "instance_type = ParameterString(name=\"InstanceType\", default_value=\"ml.m5.xlarge\")\n",
    "model_approval_status = ParameterString(name=\"ModelApprovalStatus\", default_value=\"Approved\")\n",
    "batch_transform_output_s3_path = ParameterString(\n",
    "    name=\"BatchTransformOutputS3Path\",\n",
    "    default_value=sagemaker.s3.s3_path_join(\n",
    "        \"s3://\", BUCKET_NAME, autopilot_job_name.default_value, \"batch-transform-output\"\n",
    "    ),\n",
    ")\n",
    "training_output_s3_path = ParameterString(\n",
    "    name=\"TrainingOutputS3Path\",\n",
    "    default_value=sagemaker.s3.s3_path_join(\n",
    "        \"s3://\", BUCKET_NAME, autopilot_job_name.default_value, \"training-output\"\n",
    "    ),\n",
    ")"
   ]
  },
  {
   "cell_type": "markdown",
   "id": "281da0aa",
   "metadata": {
    "pycharm": {
     "name": "#%% md\n"
    }
   },
   "source": [
    "## Get dataset"
   ]
  },
  {
   "cell_type": "markdown",
   "id": "e0bbd90a",
   "metadata": {
    "pycharm": {
     "name": "#%% md\n"
    }
   },
   "source": [
    "We use a publicly available hospital readmission dataset - diabetic patients’ dataset to predict re-admission of\n",
    "diabetic patients within 30 days post discharge. This is a multi-class classification problem since the readmission\n",
    "options are either \"< 30\" if the patient is readmitted within 30 days, \"> 30\" if the patient is readmitted after 30\n",
    "days or \"no\" for no record of readmission.\n"
   ]
  },
  {
   "cell_type": "code",
   "execution_count": null,
   "id": "b6451e43",
   "metadata": {
    "tags": [],
    "pycharm": {
     "name": "#%%\n"
    }
   },
   "outputs": [
    {
     "name": "stdout",
     "output_type": "stream",
     "text": [
      "mkdir: cannot create directory ‘data’: File exists\n",
      "--2023-01-02 14:56:25--  https://static.eu-central-1.prod.workshops.aws/public/d56bf7ad-9738-4edf-9be0-f03cd22d8cf2/static/resources/hcls/diabetic.zip\n",
      "Resolving static.eu-central-1.prod.workshops.aws (static.eu-central-1.prod.workshops.aws)... failed: Name or service not known.\n",
      "wget: unable to resolve host address ‘static.eu-central-1.prod.workshops.aws’\n",
      "Archive:  data/data.zip\n",
      "  End-of-central-directory signature not found.  Either this file is not\n",
      "  a zipfile, or it constitutes one disk of a multi-part archive.  In the\n",
      "  latter case the central directory and zipfile comment will be found on\n",
      "  the last disk(s) of this archive.\n",
      "unzip:  cannot find zipfile directory in one of data/data.zip or\n",
      "        data/data.zip.zip, and cannot find data/data.zip.ZIP, period.\n"
     ]
    }
   ],
   "source": [
    "!mkdir data\n",
    "!wget https://static.us-east-1.prod.workshops.aws/public/d56bf7ad-9738-4edf-9be0-f03cd22d8cf2/static/resources/hcls/diabetic.zip -nc -O data/data.zip\n",
    "!unzip -o data/data.zip -d data"
   ]
  },
  {
   "cell_type": "code",
   "execution_count": 13,
   "id": "da446a35-1950-4336-be15-1d5281ffb05c",
   "metadata": {
    "tags": [],
    "pycharm": {
     "name": "#%%\n"
    }
   },
   "outputs": [
    {
     "data": {
      "text/plain": [
       "'data/diabetic/data/diabetic_transformed.csv'"
      ]
     },
     "execution_count": 13,
     "metadata": {},
     "output_type": "execute_result"
    }
   ],
   "source": [
    "DATASET_PATH"
   ]
  },
  {
   "cell_type": "code",
   "execution_count": 6,
   "id": "d9993fb4",
   "metadata": {
    "pycharm": {
     "name": "#%%\n"
    }
   },
   "outputs": [],
   "source": [
    "data = pd.read_csv(DATASET_PATH)\n",
    "train_val_data = data.sample(frac=0.8)\n",
    "test_data = data.drop(train_val_data.index)\n",
    "train_val_data.to_csv(train_val_dataset_s3_path.default_value, index=False, header=True)\n",
    "test_data.drop(target_attribute_name.default_value, axis=1).to_csv(\n",
    "    x_test_s3_path.default_value, index=False, header=False\n",
    ")\n",
    "test_data[target_attribute_name.default_value].to_csv(\n",
    "    y_test_s3_path.default_value, index=False, header=True\n",
    ")"
   ]
  },
  {
   "cell_type": "markdown",
   "id": "6fcb5478",
   "metadata": {
    "pycharm": {
     "name": "#%% md\n"
    }
   },
   "source": [
    "## First pipeline step: start Autopilot job"
   ]
  },
  {
   "cell_type": "markdown",
   "id": "420d7c5b",
   "metadata": {
    "pycharm": {
     "name": "#%% md\n"
    }
   },
   "source": [
    "This pipeline step uses a [Lambda step](https://docs.aws.amazon.com/sagemaker/latest/dg/build-and-manage-steps.html#step-type-lambda) which runs a serverless Lambda function we create. The Lambda function in the *start_autopilot_job.py* script creates a [SageMaker Autopilot job](https://boto3.amazonaws.com/v1/documentation/api/latest/reference/services/sagemaker.html#SageMaker.Client.create_auto_ml_job)."
   ]
  },
  {
   "cell_type": "code",
   "execution_count": 7,
   "id": "8e1aa44e",
   "metadata": {
    "tags": [],
    "pycharm": {
     "name": "#%%\n"
    }
   },
   "outputs": [],
   "source": [
    "lambda_start_autopilot_job = Lambda(\n",
    "    function_name=\"Start-Sagemaker-Autopilot-Job\",\n",
    "    execution_role_arn=LAMBDA_EXECUTION_ROLE_ARN,\n",
    "    script=\"start_autopilot_job.py\",\n",
    "    handler=\"start_autopilot_job.lambda_handler\",\n",
    "    session=sagemaker_session,\n",
    ")\n",
    "lambda_start_autopilot_job.upsert()\n",
    "step_start_autopilot_job = LambdaStep(\n",
    "    name=\"StartAutopilotJobStep\",\n",
    "    lambda_func=lambda_start_autopilot_job,\n",
    "    inputs={\n",
    "        \"TrainValDatasetS3Path\": train_val_dataset_s3_path.default_value,\n",
    "        \"MaxCandidates\": max_autopilot_candidates.default_value,\n",
    "        \"MaxRuntimePerTrainingJobInSeconds\": max_autopilot_training_job_runtime.default_value,\n",
    "        \"MaxAutoMLJobRuntimeInSeconds\": max_autopilot_job_runtime.default_value,\n",
    "        \"TargetAttributeName\": target_attribute_name.default_value,\n",
    "        \"TrainingOutputS3Path\": training_output_s3_path.default_value,\n",
    "        \"AutopilotJobName\": autopilot_job_name,\n",
    "        \"ProblemType\": \"MulticlassClassification\",\n",
    "        \"AutopilotExecutionRoleArn\": SAGEMAKER_EXECUTION_ROLE_ARN,\n",
    "        \"AutopilotObjectiveMetricName\": \"F1macro\",\n",
    "        #\"AutopilotMode\": \"ENSEMBLING\",\n",
    "        \"AutopilotMode\": \"HYPERPARAMETER_TUNING\",\n",
    "    },\n",
    "    cache_config=cache_config,\n",
    ")"
   ]
  },
  {
   "cell_type": "markdown",
   "id": "8fac306a",
   "metadata": {
    "pycharm": {
     "name": "#%% md\n"
    }
   },
   "source": [
    "## Second pipeline step: check Autopilot job status"
   ]
  },
  {
   "cell_type": "markdown",
   "id": "a728068c",
   "metadata": {
    "pycharm": {
     "name": "#%% md\n"
    }
   },
   "source": [
    "The step repeatedly keeps track of the training job status by leveraging a separate Lambda function in *check_autopilot_job_status.py* until the Autopilot training job’s completion."
   ]
  },
  {
   "cell_type": "code",
   "execution_count": 8,
   "id": "100e3652",
   "metadata": {
    "pycharm": {
     "name": "#%%\n"
    }
   },
   "outputs": [],
   "source": [
    "lambda_check_autopilot_job_status_function_name = \"Check-Sagemaker-Autopilot-Job-Status\"\n",
    "lambda_check_autopilot_job_status = Lambda(\n",
    "    function_name=lambda_check_autopilot_job_status_function_name,\n",
    "    execution_role_arn=LAMBDA_EXECUTION_ROLE_ARN,\n",
    "    script=\"check_autopilot_job_status.py\",\n",
    "    handler=\"check_autopilot_job_status.lambda_handler\",\n",
    "    session=sagemaker_session,\n",
    "    timeout=15,\n",
    ")\n",
    "lambda_check_autopilot_job_status.upsert()\n",
    "queue_url = sqs_client.create_queue(\n",
    "    QueueName=\"AutopilotSagemakerPipelinesSqsCallback\",\n",
    "    Attributes={\"DelaySeconds\": \"5\", \"VisibilityTimeout\": \"300\"},\n",
    ")[\n",
    "    \"QueueUrl\"\n",
    "]  # 5 minutes timeout\n",
    "\n",
    "# Add event source mapping\n",
    "try:\n",
    "    response = lambda_client.create_event_source_mapping(\n",
    "        EventSourceArn=sqs_client.get_queue_attributes(\n",
    "            QueueUrl=queue_url, AttributeNames=[\"QueueArn\"]\n",
    "        )[\"Attributes\"][\"QueueArn\"],\n",
    "        FunctionName=lambda_check_autopilot_job_status_function_name,\n",
    "        Enabled=True,\n",
    "        BatchSize=1,\n",
    "    )\n",
    "except lambda_client.exceptions.ResourceConflictException:\n",
    "    pass\n",
    "\n",
    "step_check_autopilot_job_status_callback = CallbackStep(\n",
    "    name=\"CheckAutopilotJobStatusCallbackStep\",\n",
    "    sqs_queue_url=queue_url,\n",
    "    inputs={\"AutopilotJobName\": autopilot_job_name},\n",
    "    outputs=[],\n",
    "    depends_on=[step_start_autopilot_job],\n",
    ")"
   ]
  },
  {
   "cell_type": "markdown",
   "id": "68d5fbdf",
   "metadata": {
    "pycharm": {
     "name": "#%% md\n"
    }
   },
   "source": [
    "## Third pipeline step: evaluate Autopilot model"
   ]
  },
  {
   "cell_type": "markdown",
   "id": "b3d490d5",
   "metadata": {
    "pycharm": {
     "name": "#%% md\n"
    }
   },
   "source": [
    "The [SageMaker Processing step](https://docs.aws.amazon.com/sagemaker/latest/dg/build-and-manage-steps.html#step-type-processing) launches a [SageMaker Batch Transform Job](https://docs.aws.amazon.com/sagemaker/latest/dg/batch-transform.html) to evaluate the trained SageMaker Autopilot model against an evaluation dataset and generates the performance metrics evaluation report and model explainability metrics."
   ]
  },
  {
   "cell_type": "code",
   "execution_count": 9,
   "id": "84c6b245",
   "metadata": {
    "pycharm": {
     "name": "#%%\n"
    }
   },
   "outputs": [],
   "source": [
    "processing_evaluation = SKLearnProcessor(\n",
    "    role=SAGEMAKER_EXECUTION_ROLE_ARN,\n",
    "    framework_version=\"1.0-1\",\n",
    "    instance_count=instance_count.default_value,\n",
    "    instance_type=instance_type.default_value,\n",
    "    sagemaker_session=sagemaker_session,\n",
    ")\n",
    "step_autopilot_model_evaluation = ProcessingStep(\n",
    "    name=\"EvaluateBestAutopilotModelStep\",\n",
    "    job_arguments=[\n",
    "        \"--autopilot-job-name\",\n",
    "        autopilot_job_name,\n",
    "        \"--aws-region\",\n",
    "        aws_region,\n",
    "        \"--batch-transform-output-s3-path\",\n",
    "        batch_transform_output_s3_path.default_value,\n",
    "        \"--instance-type\",\n",
    "        instance_type.default_value,\n",
    "        \"--instance-count\",\n",
    "        str(instance_count.default_value),\n",
    "        \"--local-base-path\",\n",
    "        PROCESSING_JOB_LOCAL_BASE_PATH,\n",
    "        \"--sagemaker-execution-role-arn\",\n",
    "        SAGEMAKER_EXECUTION_ROLE_ARN,\n",
    "        \"--x-test-s3-path\",\n",
    "        x_test_s3_path.default_value,\n",
    "        \"--y-test-file-name\",\n",
    "        y_test_s3_path.default_value.split(\"/\")[-1],\n",
    "    ],\n",
    "    processor=processing_evaluation,\n",
    "    code=\"evaluate_autopilot_model.py\",\n",
    "    depends_on=[step_check_autopilot_job_status_callback],\n",
    "    inputs=[\n",
    "        ProcessingInput(\n",
    "            input_name=\"LabelsTestDataset\",\n",
    "            source=y_test_s3_path.default_value,\n",
    "            destination=os.path.join(PROCESSING_JOB_LOCAL_BASE_PATH, \"data\"),\n",
    "        ),\n",
    "    ],\n",
    "    outputs=[\n",
    "        ProcessingOutput(\n",
    "            output_name=\"EvaluationReport\",\n",
    "            source=os.path.join(PROCESSING_JOB_LOCAL_BASE_PATH, \"evaluation_report\"),\n",
    "        )\n",
    "    ],\n",
    "    cache_config=cache_config,\n",
    ")"
   ]
  },
  {
   "cell_type": "markdown",
   "id": "11120f52",
   "metadata": {
    "pycharm": {
     "name": "#%% md\n"
    }
   },
   "source": [
    "## Fourth pipeline step: register Autopilot model"
   ]
  },
  {
   "cell_type": "markdown",
   "id": "7fbae5c0",
   "metadata": {
    "pycharm": {
     "name": "#%% md\n"
    }
   },
   "source": [
    "Using a Lambda step, the Lambda function in *register_autopilot_job.py* registers the SageMaker Autopilot model to the SageMaker Model Registry using the evaluation report obtained in the previous SageMaker Processing step. "
   ]
  },
  {
   "cell_type": "code",
   "execution_count": 10,
   "id": "d0fa1ed1",
   "metadata": {
    "pycharm": {
     "name": "#%%\n"
    }
   },
   "outputs": [],
   "source": [
    "lambda_register_autopilot_model = Lambda(\n",
    "    function_name=\"Register-Sagemaker-Autopilot-Model\",\n",
    "    execution_role_arn=LAMBDA_EXECUTION_ROLE_ARN,\n",
    "    script=\"register_autopilot_model.py\",\n",
    "    handler=\"register_autopilot_model.lambda_handler\",\n",
    "    session=sagemaker_session,\n",
    "    timeout=15,\n",
    ")\n",
    "lambda_register_autopilot_model.upsert()\n",
    "step_register_autopilot_model = LambdaStep(\n",
    "    name=\"RegisterAutopilotModelStep\",\n",
    "    lambda_func=lambda_register_autopilot_model,\n",
    "    inputs={\n",
    "        \"AutopilotJobName\": autopilot_job_name,\n",
    "        \"EvaluationReportS3Path\": step_autopilot_model_evaluation.properties.ProcessingOutputConfig.Outputs[\n",
    "            \"EvaluationReport\"\n",
    "        ].S3Output.S3Uri,\n",
    "        \"ModelPackageName\": model_package_name.default_value,\n",
    "        \"ModelApprovalStatus\": model_approval_status.default_value,\n",
    "        \"InstanceType\": instance_type.default_value,\n",
    "    },\n",
    "    cache_config=cache_config,\n",
    ")"
   ]
  },
  {
   "cell_type": "markdown",
   "id": "5f02e979",
   "metadata": {
    "pycharm": {
     "name": "#%% md\n"
    }
   },
   "source": [
    "## Create and run pipeline"
   ]
  },
  {
   "cell_type": "markdown",
   "id": "54265d1c",
   "metadata": {
    "pycharm": {
     "name": "#%% md\n"
    }
   },
   "source": [
    "Once the pipeline steps are defined, we combine them into a SageMaker Pipeline. The steps are run in sequential order. The pipeline executes all of the steps for an AutoML job leveraging SageMaker Autopilot and SageMaker Pipelines for training, model evaluation and model registration."
   ]
  },
  {
   "cell_type": "code",
   "execution_count": null,
   "id": "4a634523",
   "metadata": {
    "pycharm": {
     "name": "#%%\n"
    }
   },
   "outputs": [],
   "source": [
    "pipeline = Pipeline(\n",
    "    name=\"autopilot-demo-pipeline\",\n",
    "    parameters=[\n",
    "        autopilot_job_name,\n",
    "        target_attribute_name,\n",
    "        train_val_dataset_s3_path,\n",
    "        x_test_s3_path,\n",
    "        y_test_s3_path,\n",
    "        max_autopilot_candidates,\n",
    "        max_autopilot_job_runtime,\n",
    "        max_autopilot_training_job_runtime,\n",
    "        instance_count,\n",
    "        instance_type,\n",
    "        model_approval_status,\n",
    "    ],\n",
    "    steps=[\n",
    "        step_start_autopilot_job,\n",
    "        step_check_autopilot_job_status_callback,\n",
    "        step_autopilot_model_evaluation,\n",
    "        step_register_autopilot_model,\n",
    "    ],\n",
    "    sagemaker_session=sagemaker_session,\n",
    ")\n",
    "pipeline.upsert(role_arn=SAGEMAKER_EXECUTION_ROLE_ARN)\n",
    "pipeline_execution = pipeline.start()\n",
    "pipeline_execution.wait(delay=20, max_attempts=24 * 60 * 3)  # max wait: 24 hours"
   ]
  },
  {
   "cell_type": "markdown",
   "id": "4a284ef4",
   "metadata": {
    "pycharm": {
     "name": "#%% md\n"
    }
   },
   "source": [
    "## Deploy the Autopilot Model Endpoint"
   ]
  },
  {
   "cell_type": "markdown",
   "id": "9a296f7e",
   "metadata": {
    "pycharm": {
     "name": "#%% md\n"
    }
   },
   "source": [
    "[Deploying](https://docs.aws.amazon.com/sagemaker/latest/dg/deploy-model.html) the previously registered best Autopilot model from the ML training pipeline to a SageMaker Endpoint."
   ]
  },
  {
   "cell_type": "code",
   "execution_count": null,
   "id": "8e842b9a",
   "metadata": {
    "pycharm": {
     "name": "#%%\n"
    }
   },
   "outputs": [],
   "source": [
    "model = ModelPackage(\n",
    "    role=SAGEMAKER_EXECUTION_ROLE_ARN,\n",
    "    model_package_arn=model_package_name.default_value,\n",
    "    sagemaker_session=sagemaker_session,\n",
    ")\n",
    "while (\n",
    "    sagemaker_client.describe_model_package(ModelPackageName=model_package_name.default_value)[\n",
    "        \"ModelPackageStatus\"\n",
    "    ]\n",
    "    != \"Completed\"\n",
    "):\n",
    "    time.sleep(10)\n",
    "model.deploy(\n",
    "    initial_instance_count=instance_count.default_value,\n",
    "    instance_type=instance_type.default_value,\n",
    ")"
   ]
  },
  {
   "cell_type": "markdown",
   "id": "344820e0",
   "metadata": {
    "pycharm": {
     "name": "#%% md\n"
    }
   },
   "source": [
    "## Cleanup"
   ]
  },
  {
   "cell_type": "code",
   "execution_count": null,
   "id": "14853b26",
   "metadata": {
    "pycharm": {
     "name": "#%%\n"
    }
   },
   "outputs": [],
   "source": [
    "sagemaker_client.delete_endpoint(EndpointName=model.endpoint_name)"
   ]
  }
 ],
 "metadata": {
  "instance_type": "ml.t3.medium",
  "kernelspec": {
   "name": "python3",
   "language": "python",
   "display_name": "Python 3 (ipykernel)"
  },
  "language_info": {
   "codemirror_mode": {
    "name": "ipython",
    "version": 3
   },
   "file_extension": ".py",
   "mimetype": "text/x-python",
   "name": "python",
   "nbconvert_exporter": "python",
   "pygments_lexer": "ipython3",
   "version": "3.8.13"
  },
  "vscode": {
   "interpreter": {
    "hash": "101f88b0feeccf0328ae0dbf08793c07d8b22db8a75cacc2d96d207b00eab69b"
   }
  }
 },
 "nbformat": 4,
 "nbformat_minor": 5
}