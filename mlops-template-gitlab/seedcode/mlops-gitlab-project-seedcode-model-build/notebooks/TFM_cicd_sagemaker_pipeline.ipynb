{
 "cells": [
  {
   "cell_type": "code",
   "execution_count": 2,
   "id": "25830264-7e1d-4ca4-829b-ab9004ef9af5",
   "metadata": {},
   "outputs": [
    {
     "name": "stdout",
     "output_type": "stream",
     "text": [
      "/root/mll-mlops-model-pipeline-template\n"
     ]
    }
   ],
   "source": [
    "%cd .."
   ]
  },
  {
   "cell_type": "code",
   "execution_count": 3,
   "id": "d99f7d13-0502-4590-8e30-016cca3f3bca",
   "metadata": {},
   "outputs": [],
   "source": [
    "import os\n",
    "import sys\n",
    "import yaml\n",
    "import boto3\n",
    "import logging\n",
    "import argparse\n",
    "import sagemaker\n",
    "\n",
    "#sys.path.append(os.path.join(os.path.dirname(__file__), \"..\"))\n",
    "from src.model_build.pipeline import get_pipeline\n",
    "\n",
    "logging.basicConfig(level=logging.INFO)\n",
    "\n",
    "#if __name__ == \"__main__\":\n",
    "parser = argparse.ArgumentParser(\"Creates or updates and runs the pipeline for the pipeline script.\")\n",
    "parser.add_argument(\"--run-execution\", action=\"store_true\")\n",
    "args, _ = parser.parse_known_args()\n",
    "\n",
    "# IAM ROLE\n",
    "iam_role = sagemaker.get_execution_role()\n",
    "\n",
    "# custom diaz code\n",
    "# Get session info\n",
    "region = boto3.Session().region_name\n",
    "sagemaker_session = sagemaker.session.Session(default_bucket='mll-tfm-v3-model-pipeline-development-961105418118')\n",
    "role = sagemaker.get_execution_role()\n",
    "default_bucket = sagemaker_session.default_bucket()\n",
    "\n",
    "# set branch\n",
    "os.environ[\"TF_VAR_branch\"] = \"development\""
   ]
  },
  {
   "cell_type": "code",
   "execution_count": 4,
   "id": "076b1f62-d7b9-4e62-ae88-a6d4615c0bfe",
   "metadata": {},
   "outputs": [],
   "source": [
    "# CONFIG\n",
    "with open(\"cfg/model_build.yaml\") as f: config = yaml.load(f, Loader=yaml.SafeLoader)"
   ]
  },
  {
   "cell_type": "code",
   "execution_count": 5,
   "id": "d73399e6-aeb8-4e13-93bc-1dd8abe65dde",
   "metadata": {},
   "outputs": [
    {
     "name": "stderr",
     "output_type": "stream",
     "text": [
      "INFO:root:INSTANTIATE PIPELINE\n",
      "/opt/conda/lib/python3.8/site-packages/sagemaker/workflow/pipeline_context.py:233: UserWarning: Running within a PipelineSession, there will be No Wait, No Logs, and No Job being started.\n",
      "  warnings.warn(\n",
      "INFO:sagemaker.image_uris:Same images used for training and inference. Defaulting to image scope: inference.\n",
      "INFO:sagemaker.image_uris:Same images used for training and inference. Defaulting to image scope: inference.\n",
      "INFO:sagemaker.image_uris:Same images used for training and inference. Defaulting to image scope: inference.\n",
      "INFO:root:CREATE/UPDATE PIPELINE IN SAGEMAKER\n",
      "INFO:root:SAGEMAKER PIPELINE RESPONSE RECEIVED:\n",
      " {'PipelineArn': 'arn:aws:sagemaker:eu-central-1:961105418118:pipeline/mlops-template', 'ResponseMetadata': {'RequestId': 'e8b64948-913b-4cb5-b9c5-7edb0b44ad25', 'HTTPStatusCode': 200, 'HTTPHeaders': {'x-amzn-requestid': 'e8b64948-913b-4cb5-b9c5-7edb0b44ad25', 'content-type': 'application/x-amz-json-1.1', 'content-length': '85', 'date': 'Tue, 27 Dec 2022 09:01:16 GMT'}, 'RetryAttempts': 0}}\n",
      "INFO:root:RUNNING PIPELINE\n",
      "INFO:root:EXECUTION STARTED WITH PipelineExecutionArn: arn:aws:sagemaker:eu-central-1:961105418118:pipeline/mlops-template/execution/w2jzo185mfri\n",
      "INFO:root:WAITING FOR THE EXECUTION TO FINISH...\n",
      "INFO:root:EXECUTION COMPLETED. SEE THE EXECUTION STEP DETAILS:\n",
      " [{'StepName': 'mlops-RegisterModel', 'StartTime': datetime.datetime(2022, 12, 27, 9, 8, 40, 149000, tzinfo=tzlocal()), 'EndTime': datetime.datetime(2022, 12, 27, 9, 8, 41, 438000, tzinfo=tzlocal()), 'StepStatus': 'Succeeded', 'AttemptCount': 0, 'Metadata': {'RegisterModel': {'Arn': 'arn:aws:sagemaker:eu-central-1:961105418118:model-package/mll-mlops-model-template-development/13'}}}, {'StepName': 'TrainModel', 'StartTime': datetime.datetime(2022, 12, 27, 9, 5, 18, 18000, tzinfo=tzlocal()), 'EndTime': datetime.datetime(2022, 12, 27, 9, 8, 39, 709000, tzinfo=tzlocal()), 'StepStatus': 'Succeeded', 'AttemptCount': 0, 'Metadata': {'TrainingJob': {'Arn': 'arn:aws:sagemaker:eu-central-1:961105418118:training-job/pipelines-w2jzo185mfri-TrainModel-G1l3M1taXb'}}}, {'StepName': 'PrepareData', 'StartTime': datetime.datetime(2022, 12, 27, 9, 1, 18, 892000, tzinfo=tzlocal()), 'EndTime': datetime.datetime(2022, 12, 27, 9, 5, 17, 76000, tzinfo=tzlocal()), 'StepStatus': 'Succeeded', 'AttemptCount': 0, 'Metadata': {'ProcessingJob': {'Arn': 'arn:aws:sagemaker:eu-central-1:961105418118:processing-job/pipelines-w2jzo185mfri-preparedata-4rzdfoopww'}}}]\n"
     ]
    }
   ],
   "source": [
    "try:\n",
    "    # INSTANTIATE PIPELINE\n",
    "    logging.info(\"INSTANTIATE PIPELINE\")\n",
    "    pipeline = get_pipeline(iam_role=iam_role, session=sagemaker_session, cfg=config)\n",
    "\n",
    "    # CREATE/UPDATE PIPELINE IN SAGEMAKER\n",
    "    logging.info(\"CREATE/UPDATE PIPELINE IN SAGEMAKER\")\n",
    "\n",
    "    upsert_response = pipeline.upsert(role_arn=iam_role)\n",
    "    logging.info(f\"SAGEMAKER PIPELINE RESPONSE RECEIVED:\\n {upsert_response}\")\n",
    "\n",
    "    #if args.run_execution:\n",
    "    # RUN PIPELINE\n",
    "    logging.info(\"RUNNING PIPELINE\")\n",
    "    execution = pipeline.start()\n",
    "    logging.info(f\"EXECUTION STARTED WITH PipelineExecutionArn: {execution.arn}\")\n",
    "\n",
    "    logging.info(\"WAITING FOR THE EXECUTION TO FINISH...\")\n",
    "    execution.wait(60)\n",
    "\n",
    "    logging.info(f\"EXECUTION COMPLETED. SEE THE EXECUTION STEP DETAILS:\\n {execution.list_steps()}\")\n",
    "except Exception as e:\n",
    "    print(f\"Exception: {e}\")\n",
    "    sys.exit(1)"
   ]
  },
  {
   "cell_type": "code",
   "execution_count": null,
   "id": "20ffa447-6367-4eb7-a056-925215e3ad56",
   "metadata": {},
   "outputs": [],
   "source": []
  }
 ],
 "metadata": {
  "instance_type": "ml.t3.medium",
  "kernelspec": {
   "display_name": "Python 3 (Data Science 2.0)",
   "language": "python",
   "name": "python3__SAGEMAKER_INTERNAL__arn:aws:sagemaker:eu-central-1:936697816551:image/sagemaker-data-science-38"
  },
  "language_info": {
   "codemirror_mode": {
    "name": "ipython",
    "version": 3
   },
   "file_extension": ".py",
   "mimetype": "text/x-python",
   "name": "python",
   "nbconvert_exporter": "python",
   "pygments_lexer": "ipython3",
   "version": "3.8.13"
  }
 },
 "nbformat": 4,
 "nbformat_minor": 5
}
