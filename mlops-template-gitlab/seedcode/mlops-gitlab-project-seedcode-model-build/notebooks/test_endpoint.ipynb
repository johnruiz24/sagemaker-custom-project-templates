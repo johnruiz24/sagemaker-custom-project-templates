{
 "cells": [
  {
   "cell_type": "markdown",
   "id": "5a4bf585-1fc8-42e7-897a-b7576aeeecbf",
   "metadata": {},
   "source": [
    "# Get model package from the model registry"
   ]
  },
  {
   "cell_type": "code",
   "execution_count": 2,
   "id": "189682e9-890b-4080-bbb3-d3bf9da98b2d",
   "metadata": {},
   "outputs": [
    {
     "name": "stdout",
     "output_type": "stream",
     "text": [
      "/root/mll-mlops-model-pipeline-template\n"
     ]
    }
   ],
   "source": [
    "%cd .."
   ]
  },
  {
   "cell_type": "code",
   "execution_count": 3,
   "id": "d722bb04-477b-4406-abbd-573f5a3fa748",
   "metadata": {},
   "outputs": [],
   "source": [
    "import argparse\n",
    "import boto3\n",
    "import logging\n",
    "import os\n",
    "from botocore.exceptions import ClientError\n",
    "import tarfile\n",
    "import zipfile\n",
    "import sagemaker\n",
    "import yaml\n",
    "\n",
    "logger = logging.getLogger(__name__)\n",
    "sm_client = boto3.client(\"sagemaker\")\n",
    "\n",
    "# LOAD CONFIG FILE (DON'T FORGET TO MODIFY TO BE ABLE TO USE THE RESPECTIVE VERTION)\n",
    "with open(\"cfg/model_build.yaml\") as f: config = yaml.load(f, Loader=yaml.SafeLoader)\n",
    "\n",
    "# IAM ROLE\n",
    "iam_role = sagemaker.get_execution_role()\n",
    "\n",
    "# Sagemaker session\n",
    "sagemaker_session = sagemaker.session.Session()\n",
    "\n",
    "\n",
    "def get_approved_package(model_package_group_name):\n",
    "    \"\"\"Gets the latest approved model package for a model package group.\n",
    "\n",
    "    Args:\n",
    "        model_package_group_name: The model package group name.\n",
    "\n",
    "    Returns:\n",
    "        The SageMaker Model Package ARN.\n",
    "    \"\"\"\n",
    "    try:\n",
    "        # Get the latest approved model package\n",
    "        response = sm_client.list_model_packages(\n",
    "            ModelPackageGroupName=model_package_group_name,\n",
    "            ModelApprovalStatus=\"Approved\",\n",
    "            SortBy=\"CreationTime\",\n",
    "            MaxResults=100,\n",
    "        )\n",
    "        approved_packages = response[\"ModelPackageSummaryList\"]\n",
    "\n",
    "        # Fetch more packages if none returned with continuation token\n",
    "        while len(approved_packages) == 0 and \"NextToken\" in response:\n",
    "            logger.debug(\"Getting more packages for token: {}\".format(response[\"NextToken\"]))\n",
    "            response = sm_client.list_model_packages(\n",
    "                ModelPackageGroupName=model_package_group_name,\n",
    "                ModelApprovalStatus=\"Approved\",\n",
    "                SortBy=\"CreationTime\",\n",
    "                MaxResults=100,\n",
    "                NextToken=response[\"NextToken\"],\n",
    "            )\n",
    "            approved_packages.extend(response[\"ModelPackageSummaryList\"])\n",
    "\n",
    "        # Return error if no packages found\n",
    "        if len(approved_packages) == 0:\n",
    "            error_message = (\n",
    "                f\"No approved ModelPackage found for ModelPackageGroup: {model_package_group_name}\"\n",
    "            )\n",
    "            logger.error(error_message)\n",
    "            raise Exception(error_message)\n",
    "\n",
    "        # Return the pmodel package arn\n",
    "        model_package_arn = approved_packages[0][\"ModelPackageArn\"]\n",
    "        logger.info(f\"Identified the latest approved model package: {model_package_arn}\")\n",
    "        return approved_packages[0]\n",
    "        # return model_package_arn\n",
    "    except ClientError as e:\n",
    "        error_message = e.response[\"Error\"][\"Message\"]\n",
    "        logger.error(error_message)\n",
    "        raise Exception(error_message)"
   ]
  },
  {
   "cell_type": "markdown",
   "id": "412aa9fd-5cca-420e-810e-6662da14cdb3",
   "metadata": {},
   "source": [
    "Get model package  metadata from model registry"
   ]
  },
  {
   "cell_type": "code",
   "execution_count": 18,
   "id": "6bb54a33-4ae1-47bc-a07b-e1d6a5fbb65f",
   "metadata": {},
   "outputs": [
    {
     "data": {
      "text/plain": [
       "{'ModelPackageGroupName': 'mll-mlops-model-template-development',\n",
       " 'ModelPackageVersion': 13,\n",
       " 'ModelPackageArn': 'arn:aws:sagemaker:eu-central-1:961105418118:model-package/mll-mlops-model-template-development/13',\n",
       " 'CreationTime': datetime.datetime(2022, 12, 27, 9, 8, 41, 343000, tzinfo=tzlocal()),\n",
       " 'InferenceSpecification': {'Containers': [{'Image': '492215442770.dkr.ecr.eu-central-1.amazonaws.com/sagemaker-scikit-learn:0.23-1-cpu-py3',\n",
       "    'ImageDigest': 'sha256:77dbe273dea0c6430bee29eb31b5a8ebf90c756f24d130070473aa7f7164ab1f',\n",
       "    'ModelDataUrl': 's3://mll-tfm-v3-model-pipeline-development-961105418118/PrepareData-49936e2ab4029a1bf4f7e73317fbfead/output/model/model.tar.gz',\n",
       "    'Environment': {'SAGEMAKER_CONTAINER_LOG_LEVEL': '20',\n",
       "     'SAGEMAKER_PROGRAM': 'preprocessing_inference.py',\n",
       "     'SAGEMAKER_REGION': 'eu-central-1',\n",
       "     'SAGEMAKER_SUBMIT_DIRECTORY': 's3://mll-tfm-v3-model-pipeline-development-961105418118/sagemaker-scikit-learn-2022-12-27-09-01-14-791/sourcedir.tar.gz'}},\n",
       "   {'Image': '492215442770.dkr.ecr.eu-central-1.amazonaws.com/sagemaker-scikit-learn:1.0-1-cpu-py3',\n",
       "    'ImageDigest': 'sha256:3efe8cb61083387c1c3d48810694847cce4b264c8aa1049927a1ac9dee8c2bf9',\n",
       "    'ModelDataUrl': 's3://sagemaker-eu-central-1-961105418118/pipelines-w2jzo185mfri-TrainModel-G1l3M1taXb/output/model.tar.gz',\n",
       "    'Environment': {'SAGEMAKER_CONTAINER_LOG_LEVEL': '20',\n",
       "     'SAGEMAKER_PROGRAM': 'inference.py',\n",
       "     'SAGEMAKER_REGION': 'eu-central-1',\n",
       "     'SAGEMAKER_SUBMIT_DIRECTORY': 's3://mll-tfm-v3-model-pipeline-development-961105418118/sagemaker-scikit-learn-2022-12-27-09-01-15-114/sourcedir.tar.gz'}},\n",
       "   {'Image': '492215442770.dkr.ecr.eu-central-1.amazonaws.com/sagemaker-scikit-learn:0.23-1-cpu-py3',\n",
       "    'ImageDigest': 'sha256:77dbe273dea0c6430bee29eb31b5a8ebf90c756f24d130070473aa7f7164ab1f',\n",
       "    'ModelDataUrl': 's3://mll-tfm-v3-model-pipeline-development-961105418118/PrepareData-49936e2ab4029a1bf4f7e73317fbfead/output/model/model.tar.gz',\n",
       "    'Environment': {'SAGEMAKER_CONTAINER_LOG_LEVEL': '20',\n",
       "     'SAGEMAKER_PROGRAM': 'postprocessing_inference.py',\n",
       "     'SAGEMAKER_REGION': 'eu-central-1',\n",
       "     'SAGEMAKER_SUBMIT_DIRECTORY': 's3://mll-tfm-v3-model-pipeline-development-961105418118/sagemaker-scikit-learn-2022-12-27-09-01-15-276/sourcedir.tar.gz'}}],\n",
       "  'SupportedTransformInstanceTypes': ['ml.m5.xlarge'],\n",
       "  'SupportedRealtimeInferenceInstanceTypes': ['ml.m5.xlarge'],\n",
       "  'SupportedContentTypes': ['application/json'],\n",
       "  'SupportedResponseMIMETypes': ['application/json']},\n",
       " 'ModelPackageStatus': 'Completed',\n",
       " 'ModelPackageStatusDetails': {'ValidationStatuses': [],\n",
       "  'ImageScanStatuses': []},\n",
       " 'CertifyForMarketplace': False,\n",
       " 'ModelApprovalStatus': 'Approved',\n",
       " 'MetadataProperties': {'GeneratedBy': 'arn:aws:sagemaker:eu-central-1:961105418118:pipeline/mlops-template/execution/w2jzo185mfri'},\n",
       " 'LastModifiedTime': datetime.datetime(2022, 12, 27, 9, 9, 15, 512000, tzinfo=tzlocal()),\n",
       " 'LastModifiedBy': {'UserProfileArn': 'arn:aws:sagemaker:eu-central-1:961105418118:user-profile/d-7k3jgm1ctmdw/luisddias',\n",
       "  'UserProfileName': 'luisddias',\n",
       "  'DomainId': 'd-7k3jgm1ctmdw'},\n",
       " 'ResponseMetadata': {'RequestId': '24d61db1-5c31-4fd7-b981-ea091eae0eb2',\n",
       "  'HTTPStatusCode': 200,\n",
       "  'HTTPHeaders': {'x-amzn-requestid': '24d61db1-5c31-4fd7-b981-ea091eae0eb2',\n",
       "   'content-type': 'application/x-amz-json-1.1',\n",
       "   'content-length': '2819',\n",
       "   'date': 'Tue, 27 Dec 2022 09:09:24 GMT'},\n",
       "  'RetryAttempts': 0}}"
      ]
     },
     "execution_count": 18,
     "metadata": {},
     "output_type": "execute_result"
    }
   ],
   "source": [
    "sm_client = boto3.client(\"sagemaker\")\n",
    "model_package_group_name = config['model_registry']['model_package_group_name']+\"-\"+\"development\"\n",
    "pck = get_approved_package(\n",
    "    model_package_group_name\n",
    ")\n",
    "model_description = sm_client.describe_model_package(ModelPackageName=pck[\"ModelPackageArn\"])\n",
    "\n",
    "model_description"
   ]
  },
  {
   "cell_type": "markdown",
   "id": "89d14d57-0746-4953-a6d6-9948f013899e",
   "metadata": {},
   "source": [
    "# Deploy registered model endpoint"
   ]
  },
  {
   "cell_type": "code",
   "execution_count": 20,
   "id": "7d404631-ee34-476c-a9d6-0692226d0d42",
   "metadata": {},
   "outputs": [
    {
     "name": "stdout",
     "output_type": "stream",
     "text": [
      "EndpointName= DEMO-mll-tfm-v3-endpoint-2022-12-27-09-09-54\n",
      "------!"
     ]
    }
   ],
   "source": [
    "from sagemaker import ModelPackage\n",
    "import time\n",
    "\n",
    "# Fetch model endpoint config\n",
    "model_package_arn = model_description[\"ModelPackageArn\"]\n",
    "model = ModelPackage(\n",
    "    role=iam_role, model_package_arn=model_package_arn, sagemaker_session=sagemaker_session\n",
    ")\n",
    "\n",
    "# Generate endpoint name\n",
    "endpoint_name = \"DEMO-mll-tfm-v3-endpoint-\" + time.strftime(\"%Y-%m-%d-%H-%M-%S\", time.gmtime())\n",
    "print(\"EndpointName= {}\".format(endpoint_name))\n",
    "\n",
    "# Deploy endpoint\n",
    "model.deploy(initial_instance_count=1, \n",
    "             instance_type=config['model_registry']['instance_type'], \n",
    "             endpoint_name=endpoint_name)"
   ]
  },
  {
   "cell_type": "markdown",
   "id": "aae0a74d-b500-4340-a43a-8449d8ecf27e",
   "metadata": {},
   "source": [
    "# Build endpoint object"
   ]
  },
  {
   "cell_type": "code",
   "execution_count": 21,
   "id": "f9948e05-6f8a-4e5c-bdd8-bc5cb8cad07f",
   "metadata": {},
   "outputs": [],
   "source": [
    "from sagemaker.predictor import Predictor\n",
    "#endpoint_name = \"mlops-template-staging\"\n",
    "predictor = Predictor(endpoint_name=endpoint_name)"
   ]
  },
  {
   "cell_type": "markdown",
   "id": "bb976269-c0aa-45da-abe0-138794d041af",
   "metadata": {},
   "source": [
    "# Test endpoint"
   ]
  },
  {
   "cell_type": "code",
   "execution_count": 22,
   "id": "8ed88ed7-dbf4-4287-a2b9-0bd10946b794",
   "metadata": {},
   "outputs": [
    {
     "name": "stdout",
     "output_type": "stream",
     "text": [
      "{\"product\": \"TFM\", \"channel\": \"WEB\", \"sourceMarket\": \"\", \"brand\": \"\", \"productType\": \"\", \"outDepartureAirport\": \"FRA\", \"outArrivalAirport\": \"JFK\", \"outDate\": \"2023-04-10T14:15:00\", \"outTime\": \"2023-04-10T14:15:00\", \"outCarrier\": \"WA | KL | DL | \", \"outFlightNumber\": \"1768 | 0643 | 6106 | \", \"outDuration\": 600, \"outSegments\": 2, \"inDepartureAirport\": \"JFK\", \"inArrivalAirport\": \"FRA\", \"inDate\": \"2023-04-16T19:40:00\", \"inTime\": \"2023-04-16T19:40:00\", \"inCarrier\": \"WA | KL | DL | \", \"inFlightNumber\": \"1768 | 0643 | 6106 | \", \"inDuration\": 490, \"inSegments\": 1, \"journeyType\": \"ROUNDTRIP\", \"tariffType\": \"PU\", \"fareBase\": \"\", \"corporateId\": \"\", \"baggage\": \"\", \"currency\": \"EUR\", \"vatPercentage\": 0, \"supplierPriceAdult\": 610.17, \"supplierPriceChild\": 0, \"supplierPriceInfant\": 0, \"adult\": 1, \"child\": 0, \"infant\": 0, \"source\": \"KL\", \"method\": \"MARGINBRAIN\", \"sessionId\": \"3a3874f1-927a-4ca7-b5a4-bd46f92fce5b\", \"requestId\": \"\", \"vcc\": \"KL\", \"event_type\": \"searchFlight\", \"inference_data\": [[-0.1418837210346458, 0.51353522446396, -0.03300010744768273, -0.24181245352189434, -0.09305891001449068, -0.051067800056826713, -0.02541532695127295, 0.0, 0.0, 0.0, 0.0, 0.0, 1.0, 0.0]], \"prediction\": \"ROUNDTRIP\", \"model_signature\": \"mlops-model-template\"}\n"
     ]
    }
   ],
   "source": [
    "import json\n",
    "\n",
    "# input example provided to tfm\n",
    "content_type = \"application/json\"\n",
    "request_body = {\n",
    "      \"product\": \"TFM\",\n",
    "      \"channel\": \"WEB\",\n",
    "      \"sourceMarket\": \"\",\n",
    "      \"brand\": \"\",\n",
    "      \"productType\": \"\",\n",
    "      \"outDepartureAirport\": \"FRA\",\n",
    "      \"outArrivalAirport\": \"JFK\",\n",
    "      \"outDate\": \"2023-04-10T14:15:00\",\n",
    "      \"outTime\": \"2023-04-10T14:15:00\",\n",
    "      \"outCarrier\": \"WA | KL | DL | \",\n",
    "      \"outFlightNumber\": \"1768 | 0643 | 6106 | \",\n",
    "      \"outDuration\": 600,\n",
    "      \"outSegments\": 2,\n",
    "      \"inDepartureAirport\": \"JFK\",\n",
    "      \"inArrivalAirport\": \"FRA\",\n",
    "      \"inDate\": \"2023-04-16T19:40:00\",\n",
    "      \"inTime\": \"2023-04-16T19:40:00\",\n",
    "      \"inCarrier\": \"WA | KL | DL | \",\n",
    "      \"inFlightNumber\": \"1768 | 0643 | 6106 | \",\n",
    "      \"inDuration\": 490,\n",
    "      \"inSegments\": 1,\n",
    "      \"journeyType\": \"ROUNDTRIP\",\n",
    "      \"tariffType\": \"PU\",\n",
    "      \"fareBase\": \"\",\n",
    "      \"corporateId\": \"\",\n",
    "      \"baggage\": \"\",\n",
    "      \"currency\": \"EUR\",\n",
    "      \"vatPercentage\": 0,\n",
    "      \"supplierPriceAdult\": 610.17,\n",
    "      \"supplierPriceChild\": 0,\n",
    "      \"supplierPriceInfant\": 0,\n",
    "      \"adult\": 1,\n",
    "      \"child\": 0,\n",
    "      \"infant\": 0,\n",
    "      \"source\": \"KL\",\n",
    "      \"method\": \"MARGINBRAIN\",\n",
    "      \"sessionId\": \"3a3874f1-927a-4ca7-b5a4-bd46f92fce5b\",\n",
    "      \"requestId\": \"\",\n",
    "      \"vcc\": \"KL\",\n",
    "      \"event_type\": \"searchFlight\"\n",
    "    }\n",
    "\n",
    "data = json.loads(json.dumps(request_body))\n",
    "payload = json.dumps(data)\n",
    "\n",
    "predict_payload = predictor.predict(payload, initial_args={\"ContentType\": content_type})\n",
    "print(predict_payload.decode(\"utf-8\"))"
   ]
  },
  {
   "cell_type": "markdown",
   "id": "3032fe06-81e4-4eaa-946e-2c7ae22d98d9",
   "metadata": {},
   "source": [
    "# Clean-up\n",
    "Delete the resources created for this example to avoid any unintended charges"
   ]
  },
  {
   "cell_type": "code",
   "execution_count": 54,
   "id": "a8ccf583-67ad-42a0-a978-46c6ffe89933",
   "metadata": {},
   "outputs": [
    {
     "name": "stdout",
     "output_type": "stream",
     "text": [
      "arn:aws:sagemaker:eu-central-1:961105418118:model-package/mll-tfm-v3/19\n",
      "arn:aws:sagemaker:eu-central-1:961105418118:model-package/mll-tfm-v3/18\n",
      "arn:aws:sagemaker:eu-central-1:961105418118:model-package/mll-tfm-v3/17\n",
      "arn:aws:sagemaker:eu-central-1:961105418118:model-package/mll-tfm-v3/16\n",
      "arn:aws:sagemaker:eu-central-1:961105418118:model-package/mll-tfm-v3/15\n",
      "arn:aws:sagemaker:eu-central-1:961105418118:model-package/mll-tfm-v3/14\n",
      "arn:aws:sagemaker:eu-central-1:961105418118:model-package/mll-tfm-v3/13\n",
      "arn:aws:sagemaker:eu-central-1:961105418118:model-package/mll-tfm-v3/12\n",
      "arn:aws:sagemaker:eu-central-1:961105418118:model-package/mll-tfm-v3/11\n",
      "arn:aws:sagemaker:eu-central-1:961105418118:model-package/mll-tfm-v3/10\n",
      "arn:aws:sagemaker:eu-central-1:961105418118:model-package/mll-tfm-v3/9\n",
      "arn:aws:sagemaker:eu-central-1:961105418118:model-package/mll-tfm-v3/8\n",
      "arn:aws:sagemaker:eu-central-1:961105418118:model-package/mll-tfm-v3/7\n",
      "arn:aws:sagemaker:eu-central-1:961105418118:model-package/mll-tfm-v3/6\n",
      "arn:aws:sagemaker:eu-central-1:961105418118:model-package/mll-tfm-v3/5\n",
      "arn:aws:sagemaker:eu-central-1:961105418118:model-package/mll-tfm-v3/4\n",
      "arn:aws:sagemaker:eu-central-1:961105418118:model-package/mll-tfm-v3/3\n",
      "arn:aws:sagemaker:eu-central-1:961105418118:model-package/mll-tfm-v3/2\n",
      "arn:aws:sagemaker:eu-central-1:961105418118:model-package/mll-tfm-v3/1\n"
     ]
    },
    {
     "data": {
      "text/plain": [
       "{'ResponseMetadata': {'RequestId': '15793474-8e06-4fe7-b680-e168a3e6fe10',\n",
       "  'HTTPStatusCode': 200,\n",
       "  'HTTPHeaders': {'x-amzn-requestid': '15793474-8e06-4fe7-b680-e168a3e6fe10',\n",
       "   'content-type': 'application/x-amz-json-1.1',\n",
       "   'content-length': '0',\n",
       "   'date': 'Tue, 15 Nov 2022 13:53:46 GMT'},\n",
       "  'RetryAttempts': 0}}"
      ]
     },
     "execution_count": 54,
     "metadata": {},
     "output_type": "execute_result"
    }
   ],
   "source": [
    "sm_client = boto3.client(\"sagemaker\")\n",
    "\n",
    "for d in sm_client.list_model_packages(ModelPackageGroupName=model_package_group_name)[\n",
    "    \"ModelPackageSummaryList\"\n",
    "]:\n",
    "    print(d[\"ModelPackageArn\"])\n",
    "    sm_client.delete_model_package(ModelPackageName=d[\"ModelPackageArn\"])\n",
    "\n",
    "sm_client.delete_model_package_group(ModelPackageGroupName=model_package_group_name)"
   ]
  },
  {
   "cell_type": "code",
   "execution_count": 24,
   "id": "da9c8be6-97e7-4d2c-8cbb-827ba5b0492d",
   "metadata": {},
   "outputs": [],
   "source": [
    "predictor.delete_endpoint()"
   ]
  },
  {
   "cell_type": "code",
   "execution_count": null,
   "id": "cdff49c6-2476-41a6-b835-7632e4cf83b9",
   "metadata": {},
   "outputs": [],
   "source": []
  }
 ],
 "metadata": {
  "instance_type": "ml.t3.medium",
  "kernelspec": {
   "display_name": "Python 3 (Data Science 2.0)",
   "language": "python",
   "name": "python3__SAGEMAKER_INTERNAL__arn:aws:sagemaker:eu-central-1:936697816551:image/sagemaker-data-science-38"
  },
  "language_info": {
   "codemirror_mode": {
    "name": "ipython",
    "version": 3
   },
   "file_extension": ".py",
   "mimetype": "text/x-python",
   "name": "python",
   "nbconvert_exporter": "python",
   "pygments_lexer": "ipython3",
   "version": "3.8.13"
  }
 },
 "nbformat": 4,
 "nbformat_minor": 5
}
