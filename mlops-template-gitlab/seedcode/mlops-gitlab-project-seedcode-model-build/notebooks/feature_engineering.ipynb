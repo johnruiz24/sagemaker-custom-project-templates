{
 "cells": [
  {
   "cell_type": "code",
   "execution_count": 2,
   "id": "40fe73da-d908-4843-890b-dff58ac33d53",
   "metadata": {},
   "outputs": [
    {
     "data": {
      "text/plain": [
       "Index(['session_id', 'request_id', 'event_time', 'event', 'source', 'origin',\n",
       "       'journey_type', 'destination', 'departure_date', 'return_date',\n",
       "       'out_elapsed_flight_time', 'in_elapsed_flight_time', 'total_price',\n",
       "       'total_markup_amount', 'out_flight_numbers', 'adt_numbers',\n",
       "       'cnn_numbers', 'inf_numbers', 'mkp_source'],\n",
       "      dtype='object')"
      ]
     },
     "execution_count": 2,
     "metadata": {},
     "output_type": "execute_result"
    }
   ],
   "source": [
    "import pandas as pd\n",
    "from sklearn.compose import ColumnTransformer\n",
    "from sklearn.impute import SimpleImputer\n",
    "from sklearn.preprocessing import OneHotEncoder, StandardScaler\n",
    "from sklearn.pipeline import Pipeline\n",
    "from sklearn.ensemble import RandomForestClassifier\n",
    "from sklearn.model_selection import train_test_split\n",
    "from sklearn.metrics import accuracy_score\n",
    "from joblib import dump\n",
    "\n",
    "# Load the data\n",
    "df = pd.read_csv('data.csv')\n",
    "df.columns"
   ]
  },
  {
   "cell_type": "code",
   "execution_count": 3,
   "id": "df0a20e3-2543-4966-929a-32819668a792",
   "metadata": {},
   "outputs": [],
   "source": [
    "# Assign atributes\n",
    "df = df.drop(['session_id',\n",
    "              'request_id',\n",
    "              'event_time',\n",
    "              'event',\n",
    "              'origin',\n",
    "              'destination',\n",
    "              'out_flight_numbers',\n",
    "              'departure_date',\n",
    "              'return_date',\n",
    "              'mkp_source'], \n",
    "             axis=1)\n",
    "numeric_features = ['in_elapsed_flight_time',\n",
    "                    'out_elapsed_flight_time',\n",
    "                    'total_price',\n",
    "                    'total_markup_amount',\n",
    "                    'adt_numbers',\n",
    "                    'cnn_numbers',\n",
    "                    'inf_numbers']\n",
    "categorical_features = ['source']\n",
    "\n",
    "# Preprocess the data\n",
    "X = df.drop('journey_type', axis=1)\n",
    "y = df['journey_type']\n",
    "\n",
    "# Split the data into train and test sets\n",
    "X_train, X_test, y_train, y_test = train_test_split(X, y, test_size=0.2, random_state=42)"
   ]
  },
  {
   "cell_type": "code",
   "execution_count": 13,
   "id": "5895b52a-11d9-463e-94d6-65deadb14e06",
   "metadata": {},
   "outputs": [
    {
     "data": {
      "text/plain": [
       "array([[-0.56492606, -0.56534693, -0.55429221, -0.7716228 ,  0.23538556,\n",
       "        -0.28507866, -0.0877058 ,  0.        ,  0.        ,  0.        ,\n",
       "         0.        ,  1.        ,  0.        ,  0.        ],\n",
       "       [ 0.46520748,  0.38337198,  1.12360337,  2.46485304,  0.23538556,\n",
       "        -0.28507866, -0.0877058 ,  0.        ,  1.        ,  0.        ,\n",
       "         0.        ,  0.        ,  0.        ,  0.        ],\n",
       "       [-0.84858602, -0.85283751, -0.18529602,  0.74637029,  0.23538556,\n",
       "        -0.28507866, -0.0877058 ,  0.        ,  1.        ,  0.        ,\n",
       "         0.        ,  0.        ,  0.        ,  0.        ]])"
      ]
     },
     "execution_count": 13,
     "metadata": {},
     "output_type": "execute_result"
    }
   ],
   "source": [
    "# Define the pipeline\n",
    "numeric_transformer = Pipeline(steps=[\n",
    "    ('imputer', SimpleImputer(strategy='mean')),\n",
    "    ('scaler', StandardScaler())])\n",
    "\n",
    "categorical_transformer = Pipeline(steps=[\n",
    "    ('imputer', SimpleImputer(strategy='constant', fill_value='missing')),\n",
    "    ('onehot', OneHotEncoder(handle_unknown='ignore'))])\n",
    "\n",
    "preprocessor = ColumnTransformer(transformers=[\n",
    "    ('num', numeric_transformer, numeric_features),\n",
    "    ('cat', categorical_transformer, categorical_features)])\n",
    "\n",
    "# Preprocessing\n",
    "model = Pipeline(steps=[('preprocessor', preprocessor)])\n",
    "\n",
    "# Fit the pipeline to the training data\n",
    "model.fit(X_train, y_train)\n",
    "\n",
    "# Make predictions on the test set\n",
    "y_pred = model.transform(X_test.head(3))\n",
    "y_pred"
   ]
  },
  {
   "cell_type": "code",
   "execution_count": 20,
   "id": "39dda405-74a8-4725-93bf-707743cf73c7",
   "metadata": {},
   "outputs": [
    {
     "name": "stdout",
     "output_type": "stream",
     "text": [
      "Test Accuracy: 0.94\n"
     ]
    }
   ],
   "source": [
    "# Preprocessing + training\n",
    "model = Pipeline(steps=[('preprocessor', preprocessor),\n",
    "                      ('classifier', RandomForestClassifier())])\n",
    "\n",
    "# Fit the pipeline to the training data\n",
    "model.fit(X_train, y_train)\n",
    "\n",
    "# Make predictions on the test set\n",
    "y_pred = model.predict(X_test)\n",
    "\n",
    "# Evaluate the model\n",
    "print(f'Test Accuracy: {accuracy_score(y_test, y_pred):.2f}')"
   ]
  },
  {
   "cell_type": "code",
   "execution_count": 6,
   "id": "6b38568b-06aa-4c88-95fa-c9f7ec35a5bf",
   "metadata": {},
   "outputs": [],
   "source": [
    "# Get processed data column names\n",
    "import numpy as np\n",
    "\n",
    "# numerical columns not change, categorical columns change from one-hot encoder\n",
    "new_cat_cols = model.named_steps[\"preprocessor\"].named_transformers_[\"cat\"].named_steps[\"onehot\"].get_feature_names(categorical_features)\n",
    "\n",
    "# concatenate categorical columns with numerical columns to get all columns\n",
    "all_cols = np.concatenate([numeric_features, new_cat_cols])\n",
    "\n",
    "# create processed pandas dataframe\n",
    "pd.DataFrame(y_pred, columns=all_cols)"
   ]
  },
  {
   "cell_type": "code",
   "execution_count": null,
   "id": "7846ff8d-2ad0-482e-be0a-a2a46d7e5e13",
   "metadata": {},
   "outputs": [],
   "source": []
  }
 ],
 "metadata": {
  "instance_type": "ml.t3.medium",
  "kernelspec": {
   "display_name": "Python 3 (Data Science)",
   "language": "python",
   "name": "python3__SAGEMAKER_INTERNAL__arn:aws:sagemaker:eu-central-1:936697816551:image/datascience-1.0"
  },
  "language_info": {
   "codemirror_mode": {
    "name": "ipython",
    "version": 3
   },
   "file_extension": ".py",
   "mimetype": "text/x-python",
   "name": "python",
   "nbconvert_exporter": "python",
   "pygments_lexer": "ipython3",
   "version": "3.7.10"
  }
 },
 "nbformat": 4,
 "nbformat_minor": 5
}
