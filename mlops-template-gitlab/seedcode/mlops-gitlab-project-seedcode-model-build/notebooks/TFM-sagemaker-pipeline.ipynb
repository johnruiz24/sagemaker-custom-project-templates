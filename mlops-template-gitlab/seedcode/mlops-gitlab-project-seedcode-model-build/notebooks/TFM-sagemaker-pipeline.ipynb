{
 "cells": [
  {
   "cell_type": "markdown",
   "id": "c51bbd83-aecc-45cc-82dc-53b9cf01447d",
   "metadata": {},
   "source": [
    "[Sagemaker pipelines template](https://docs.aws.amazon.com/sagemaker/latest/dg/define-pipeline.html)"
   ]
  },
  {
   "cell_type": "code",
   "execution_count": 2,
   "id": "89c56d32-767c-427d-aa78-138767e7ecee",
   "metadata": {},
   "outputs": [
    {
     "name": "stdout",
     "output_type": "stream",
     "text": [
      "/root/rl-market-simulator\n"
     ]
    }
   ],
   "source": [
    "%cd .."
   ]
  },
  {
   "cell_type": "markdown",
   "id": "3c8b0864-07ec-4d63-8884-e32fc9311947",
   "metadata": {},
   "source": [
    "# Set Up Your Environment"
   ]
  },
  {
   "cell_type": "code",
   "execution_count": 3,
   "id": "924a7787-e2f8-46fd-9d22-7266eba5a93f",
   "metadata": {},
   "outputs": [],
   "source": [
    "# AWS api services setup\n",
    "import boto3\n",
    "import sagemaker\n",
    "import sagemaker.session\n",
    "\n",
    "# Training estimator\n",
    "from sagemaker.rl import RLEstimator, RLToolkit, RLFramework\n",
    "\n",
    "# Sagemaker pipeline dependencies\n",
    "import json\n",
    "from sagemaker.processing import ProcessingInput, ProcessingOutput, ScriptProcessor\n",
    "from sagemaker.workflow.steps import ProcessingStep\n",
    "from sagemaker.sklearn.processing import SKLearnProcessor\n",
    "from sagemaker.sklearn.estimator import SKLearn\n",
    "from sagemaker.inputs import TrainingInput\n",
    "from sagemaker.workflow.steps import TrainingStep\n",
    "from sagemaker.tuner import ContinuousParameter, HyperparameterTuner\n",
    "from sagemaker.workflow.steps import TuningStep\n",
    "from sagemaker.workflow.properties import PropertyFile\n",
    "from sagemaker.workflow.fail_step import FailStep\n",
    "from sagemaker.workflow.functions import Join\n",
    "from sagemaker.workflow.functions import JsonGet\n",
    "from sagemaker.workflow.conditions import ConditionLessThanOrEqualTo\n",
    "from sagemaker.workflow.condition_step import ConditionStep\n",
    "from sagemaker.workflow.pipeline import Pipeline\n",
    "from sagemaker.workflow.parameters import ParameterInteger, ParameterString\n",
    "from sagemaker.workflow.pipeline import Pipeline\n",
    "from sagemaker.workflow.pipeline_context import PipelineSession\n",
    "\n",
    "# From custom code\n",
    "from src.utils import global_parameters as gp"
   ]
  },
  {
   "cell_type": "markdown",
   "id": "34255425-4666-437d-a123-ca7a73abdc78",
   "metadata": {},
   "source": [
    "# Create TFM-v3 Sagemaker Pipeline\n",
    "[Pipeline overall structure](https://confluence.tuigroup.com/display/MLL/3.1.3.+Model+Development)"
   ]
  },
  {
   "cell_type": "markdown",
   "id": "61c53dc1-0c93-4a7e-8e8a-25e964f4484d",
   "metadata": {},
   "source": [
    "# Step 1: Download model dependencies for the RL training"
   ]
  },
  {
   "cell_type": "code",
   "execution_count": 4,
   "id": "48792b30-ffd2-4030-8ebb-c04ff43ff5f6",
   "metadata": {},
   "outputs": [
    {
     "name": "stdout",
     "output_type": "stream",
     "text": [
      "s3://sagemaker-eu-central-1-961105418118/tfm-v3/tfm_data_last_365_days.csv\n",
      "s3://sagemaker-eu-central-1-961105418118/tfm-v3\n"
     ]
    }
   ],
   "source": [
    "# Get session info\n",
    "region = boto3.Session().region_name\n",
    "sagemaker_session = sagemaker.session.Session()\n",
    "role = sagemaker.get_execution_role()\n",
    "default_bucket = sagemaker_session.default_bucket()\n",
    "pipeline_session = PipelineSession()\n",
    "\n",
    "# update bucket results location\n",
    "gp.base_uri = f\"s3://{default_bucket}/tfm-v3\"\n",
    "\n",
    "# upload reinforcement learning data model dependencies\n",
    "\n",
    "# 1 - processed training data\n",
    "local_path = \"src/data/interim/tfm_data_last_365_days.csv\"\n",
    "input_data_uri = sagemaker.s3.S3Uploader.upload(\n",
    "    local_path=local_path, \n",
    "    desired_s3_uri=gp.base_uri,\n",
    ")\n",
    "print(input_data_uri)\n",
    "\n",
    "# 2 - Source code data\n",
    "local_path = \"src\"\n",
    "src_code_uri = sagemaker.s3.S3Uploader.upload(\n",
    "    local_path=local_path, \n",
    "    desired_s3_uri=gp.base_uri,\n",
    ")\n",
    "print(src_code_uri)"
   ]
  },
  {
   "cell_type": "markdown",
   "id": "428a29bf-0c2b-47c6-b7ba-8cb61ee655ca",
   "metadata": {},
   "source": [
    "Define model dependencies pipeline parameters\n",
    "\n",
    "This code block defines the following parameters for your pipeline:\n",
    "\n",
    "- processing_instance_count – The instance count of the processing job.\n",
    "- input_data – The Amazon S3 location of the input data.\n",
    "- input_booking_curve_model – The Amazon S3 location of the booking curves machine learning model.\n",
    "- input_source_code – The Amazon S3 location of the source code."
   ]
  },
  {
   "cell_type": "code",
   "execution_count": 5,
   "id": "4fba304d-fa22-4af8-b16f-094d41010fa9",
   "metadata": {},
   "outputs": [],
   "source": [
    "processing_instance_count = ParameterInteger(\n",
    "    name=\"ProcessingInstanceCount\",\n",
    "    default_value=1\n",
    ")\n",
    "input_data = ParameterString(\n",
    "    name=\"InputData\",\n",
    "    default_value=input_data_uri,\n",
    ")\n",
    "input_source_code = ParameterString(\n",
    "    name=\"SourceCode\",\n",
    "    default_value=src_code_uri,\n",
    ")"
   ]
  },
  {
   "cell_type": "markdown",
   "id": "521df471-3d5e-4e57-999d-98a818c91ca8",
   "metadata": {},
   "source": [
    "# Step 2: Process TFM data\n",
    "check: https://stackoverflow.com/questions/69046990/how-to-pass-dependency-files-to-sagemaker-sklearnprocessor-and-use-it-in-pipelin"
   ]
  },
  {
   "cell_type": "code",
   "execution_count": 6,
   "id": "6a81bece-79b6-4c24-a4bc-e5e27f3d5ac8",
   "metadata": {},
   "outputs": [],
   "source": [
    "# Define loading dependencies estimator step\n",
    "sklearn_processor = SKLearnProcessor(\n",
    "    framework_version=\"0.23-1\",\n",
    "    instance_type=\"ml.m5.xlarge\",\n",
    "    instance_count=processing_instance_count,\n",
    "    base_job_name=\"tfm-v3-dependencies\",\n",
    "    role=role,\n",
    ")\n",
    "# Define loading dependencies step\n",
    "step_process = ProcessingStep(\n",
    "    name=\"Process-TFM-data\",\n",
    "    processor=sklearn_processor,\n",
    "    inputs=[\n",
    "        ProcessingInput(source=input_data, destination=\"/opt/ml/processing/input/data\"), \n",
    "        ProcessingInput(source=input_source_code, destination=\"/opt/ml/processing/input/code/src\")\n",
    "    ],    \n",
    "    outputs=[\n",
    "        ProcessingOutput(output_name=\"train\", source=\"/opt/ml/processing/train\")\n",
    "    ],\n",
    "    code=\"src/pipeline/booking_curve_preprocessing.py\",\n",
    ")"
   ]
  },
  {
   "cell_type": "markdown",
   "id": "8819b198-1f06-4b8a-a754-eda35481db4d",
   "metadata": {},
   "source": [
    "# Step 3: Generate booking curves (training)"
   ]
  },
  {
   "cell_type": "code",
   "execution_count": 7,
   "id": "74091206-8119-4447-8813-d18f7d96b6de",
   "metadata": {},
   "outputs": [],
   "source": [
    "# Define loading dependencies estimator step\n",
    "sklearn_train = SKLearnProcessor(\n",
    "    framework_version=\"0.23-1\",\n",
    "    instance_type=\"ml.m5.xlarge\",\n",
    "    instance_count=processing_instance_count,\n",
    "    base_job_name=\"Fit-booking-curves\",\n",
    "    role=role,\n",
    ")"
   ]
  },
  {
   "cell_type": "code",
   "execution_count": 8,
   "id": "3496e815-2a97-426d-aae7-0cbe587bf094",
   "metadata": {},
   "outputs": [],
   "source": [
    "# Define training step\n",
    "step_train = ProcessingStep(\n",
    "    name=\"Fit-booking-curves\",\n",
    "    processor=sklearn_train,\n",
    "    inputs=[\n",
    "        ProcessingInput(\n",
    "            source=step_process.properties.ProcessingOutputConfig.Outputs[\n",
    "                \"train\"\n",
    "            ].S3Output.S3Uri,\n",
    "            destination=\"/opt/ml/processing/train\"\n",
    "        ), \n",
    "        ProcessingInput(source=input_source_code, destination=\"/opt/ml/processing/input/code/src\")\n",
    "    ],\n",
    "    code=\"src/pipeline/extract_booking_curves.py\",\n",
    ")"
   ]
  },
  {
   "cell_type": "markdown",
   "id": "bc579a81-84f5-4948-8e47-d8281ea37659",
   "metadata": {},
   "source": [
    "# Step 4: Evaluation step (check recall score)"
   ]
  },
  {
   "cell_type": "code",
   "execution_count": 9,
   "id": "17760f89-e1c1-4d24-a932-653ef1c2d5b3",
   "metadata": {},
   "outputs": [],
   "source": [
    "# Get container image\n",
    "image_uri = sagemaker.image_uris.retrieve(\n",
    "    framework=\"xgboost\",\n",
    "    region=region,\n",
    "    version=\"1.0-1\",\n",
    "    py_version=\"py3\",\n",
    "    instance_type=\"ml.m5.xlarge\"\n",
    ")\n",
    "\n",
    "# Define evaluation script processor\n",
    "script_eval = ScriptProcessor(\n",
    "    image_uri=image_uri,\n",
    "    command=[\"python3\"],\n",
    "    instance_type=\"ml.m5.xlarge\",\n",
    "    instance_count=1,\n",
    "    base_job_name=\"script-tfm-booking-curve-eval\",\n",
    "    role=role,\n",
    ")\n",
    "\n",
    "# Define evaluation report objetct for the script processor\n",
    "evaluation_report = PropertyFile(\n",
    "    name=\"EvaluationReport\",\n",
    "    output_name=\"evaluation\",\n",
    "    path=\"evaluation.json\"\n",
    ")"
   ]
  },
  {
   "cell_type": "code",
   "execution_count": 10,
   "id": "f3e3bb12-4db2-4035-a60b-a62c0e5b36ef",
   "metadata": {},
   "outputs": [],
   "source": [
    "# Define evaluation step\n",
    "step_eval = ProcessingStep(\n",
    "    name=\"TFM-V3-Eval-Booking-Curves\",\n",
    "    processor=script_eval,\n",
    "    outputs=[\n",
    "        ProcessingOutput(output_name=\"evaluation\", source=\"/opt/ml/processing/evaluation\")\n",
    "    ],\n",
    "    code=\"src/pipeline/evaluation-booking-curves.py\",\n",
    "    property_files=[evaluation_report],\n",
    ")\n",
    "\n",
    "step_eval.add_depends_on([step_train])"
   ]
  },
  {
   "cell_type": "markdown",
   "id": "2ffc2120-4cb4-4718-904c-5e392a7f7ab4",
   "metadata": {},
   "source": [
    "# Step 5: Define fail step if Recall criteria is not met"
   ]
  },
  {
   "cell_type": "code",
   "execution_count": 11,
   "id": "aec7c42b-d2fc-4ba7-aef8-19bb1ac2d042",
   "metadata": {},
   "outputs": [],
   "source": [
    "# Condition is based on the p-vaule obtained from the statistical test for the training convergence\n",
    "step_fail = FailStep(\n",
    "    name=\"TFM-V3-Failed-Recall-Standard\",\n",
    "    error_message=Join(\n",
    "        on=\" \", \n",
    "        values=[\"Execution failed due to recall value <\", JsonGet(\n",
    "        step_name=step_eval.name,\n",
    "        property_file=evaluation_report,\n",
    "        json_path=\"booking_curve_metrics.performance_metrics.training_recall_score\"\n",
    "    )]\n",
    "    ),\n",
    ")"
   ]
  },
  {
   "cell_type": "markdown",
   "id": "75ceb905-941a-4b43-a589-d4f58a37b884",
   "metadata": {},
   "source": [
    "# Step 6: Check if the selected model is compliant with the RL training"
   ]
  },
  {
   "cell_type": "code",
   "execution_count": 12,
   "id": "eeb28e37-bbb3-41f7-a7de-f5e4caf806ab",
   "metadata": {},
   "outputs": [],
   "source": [
    "# Define loading dependencies estimator step\n",
    "sklearn_processor = SKLearnProcessor(\n",
    "    framework_version=\"0.23-1\",\n",
    "    instance_type=\"ml.m5.xlarge\",\n",
    "    instance_count=processing_instance_count,\n",
    "    base_job_name=\"tfm-v3-dependencies\",\n",
    "    role=role,\n",
    ")\n",
    "# Define loading dependencies step\n",
    "step_process_rl = ProcessingStep(\n",
    "    name=\"Load-RL-Dependencies\",\n",
    "    processor=sklearn_processor,\n",
    "    inputs=[\n",
    "        ProcessingInput(source=input_data, destination=\"/opt/ml/processing/input/data\"), \n",
    "        ProcessingInput(source=input_source_code, destination=\"/opt/ml/processing/input/code/src\"),\n",
    "        ProcessingInput(source=step_eval.properties.ProcessingOutputConfig.Outputs[\n",
    "            \"evaluation\"\n",
    "            ].S3Output.S3Uri,\n",
    "            destination=\"/opt/ml/processing/evaluation\"\n",
    "        ),\n",
    "    ],    \n",
    "    outputs=[\n",
    "        ProcessingOutput(output_name=\"markup_probability_prediction\", source=\"/opt/ml/processing/quality_check\")\n",
    "    ],\n",
    "    code=\"src/pipeline/preprocessing-rl.py\",\n",
    ")"
   ]
  },
  {
   "cell_type": "markdown",
   "id": "0c831457-e45a-4122-9a2c-db6359d3400f",
   "metadata": {},
   "source": [
    "# Step 7: Define a Condition Step to Verify Model Recall threshold"
   ]
  },
  {
   "cell_type": "code",
   "execution_count": 13,
   "id": "870554c4-334d-4c49-9cd2-967d87e701b0",
   "metadata": {},
   "outputs": [],
   "source": [
    "# Get the evaluation json and parse the statistical test result\n",
    "cond_lte = ConditionLessThanOrEqualTo(\n",
    "    right=JsonGet(\n",
    "        step_name=step_eval.name,\n",
    "        property_file=evaluation_report,\n",
    "        json_path=\"booking_curve_metrics.performance_metrics.training_recall_score\"\n",
    "    ),\n",
    "    left=0.70 # recall score has to be higher than 70%\n",
    ")"
   ]
  },
  {
   "cell_type": "code",
   "execution_count": 14,
   "id": "dfd41b3d-4d72-4bbf-ab35-66f53018ffb2",
   "metadata": {},
   "outputs": [],
   "source": [
    "# Definition of the condition step\n",
    "step_cond = ConditionStep(\n",
    "    name=\"Training-Recall-Evaluation\",\n",
    "    conditions=[cond_lte],\n",
    "    if_steps=[step_process_rl],\n",
    "    else_steps=[step_fail], \n",
    ")\n",
    "\n",
    "step_cond.add_depends_on([step_eval])"
   ]
  },
  {
   "cell_type": "markdown",
   "id": "db2e0e2a-72f0-4a7b-987d-1d31ed3dbc8e",
   "metadata": {},
   "source": [
    "# Step 8: Define RL Training step"
   ]
  },
  {
   "cell_type": "code",
   "execution_count": 15,
   "id": "2c508eb4-d951-408d-9e63-0693a7634ddb",
   "metadata": {},
   "outputs": [
    {
     "name": "stdout",
     "output_type": "stream",
     "text": [
      "S3 bucket path: s3://sagemaker-eu-central-1-961105418118/\n"
     ]
    }
   ],
   "source": [
    "# set up s3 bucket\n",
    "sage_session = sagemaker.session.Session()\n",
    "s3_bucket = sage_session.default_bucket()\n",
    "s3_output_path = \"s3://{}/\".format(s3_bucket)\n",
    "print(\"S3 bucket path: {}\".format(s3_output_path))\n",
    "\n",
    "#DNS name of the Load Balancer that interacts with fargate cluster in which the MLflow server is installed \n",
    "tracking_uri = 'http://mll-mlflow-development-1-72adb7f6eb3c1c02.elb.eu-central-1.amazonaws.com'\n",
    "rl_experiment_name = 'tfm-v3-rlestimator+mlflow+pipelines'\n",
    "\n",
    "# create a descriptive job name\n",
    "job_name_prefix = \"rl-market-simulator\"\n",
    "\n",
    "# RL estimator metrics\n",
    "metric_definitions = [{'Name': 'episode_reward_mean',\n",
    "                      'Regex': 'episode_reward_mean: ([-+]?[0-9]*[.]?[0-9]+([eE][-+]?[0-9]+)?)'},\n",
    "                     {'Name': 'episode_reward_max',\n",
    "                      'Regex': 'episode_reward_max: ([-+]?[0-9]*[.]?[0-9]+([eE][-+]?[0-9]+)?)'},\n",
    "                     {'Name': 'episode_reward_min',\n",
    "                      'Regex': 'episode_reward_min: ([-+]?[0-9]*[.]?[0-9]+([eE][-+]?[0-9]+)?)'},\n",
    "                     {'Name': 'training_iteration',\n",
    "                      'Regex': 'training_iteration: ([-+]?[0-9]*[.]?[0-9]+([eE][-+]?[0-9]+)?)'},\n",
    "                     {'Name': 'entropy',\n",
    "                      'Regex': 'entropy: ([-+]?[0-9]*[.]?[0-9]+([eE][-+]?[0-9]+)?)'}]\n",
    "\n",
    "# RL estimator hyperparamenters\n",
    "run_hyperparameters = {\n",
    "    'tracking_uri': tracking_uri,\n",
    "    'experiment_name': rl_experiment_name,\n",
    "    'training_iteration': gp.MAX_ITERATIONS,\n",
    "    'gamma': 0.50,\n",
    "    'horizon': gp.AGENT_MAX_STEPS,\n",
    "    'lr': 0.001,\n",
    "    's3_bucket_output': s3_bucket\n",
    "}\n",
    "\n",
    "# Tuning parameters\n",
    "rl_hyperparameter_ranges = {\n",
    "    'gamma': ContinuousParameter(0.01, 0.99),\n",
    "    'lr': ContinuousParameter(0.0001, 0.001)\n",
    "}\n",
    "\n",
    "# Definition of the reinforcement learning estimator\n",
    "rl_estimator = RLEstimator(base_job_name=job_name_prefix,\n",
    "                        entry_point='./pipeline/train_rl_agent-new.py',\n",
    "                        source_dir='src',\n",
    "                        dependencies=[\"src/common/sagemaker_rl\"],\n",
    "                        toolkit=RLToolkit.RAY,\n",
    "                        framework=RLFramework.TENSORFLOW,\n",
    "                        toolkit_version=\"1.6.0\",\n",
    "                        role=role,\n",
    "                        debugger_hook_config=False,\n",
    "                        instance_type='ml.m5.large',\n",
    "                        instance_count=1,\n",
    "                        output_path=s3_output_path,\n",
    "                        use_spot_instances=True, # use spot instance\n",
    "                        max_run = 7200, # seconds\n",
    "                        max_wait = 7200, # seconds\n",
    "                        metric_definitions=metric_definitions,\n",
    "                        hyperparameters = run_hyperparameters,\n",
    "                        sagemaker_session=pipeline_session\n",
    "                        )\n",
    "\n",
    "# Define the tuning processor\n",
    "rl_tuner = HyperparameterTuner(rl_estimator,\n",
    "                            objective_metric_name='episode_reward_mean',\n",
    "                            objective_type='Maximize',\n",
    "                            hyperparameter_ranges=rl_hyperparameter_ranges,\n",
    "                            metric_definitions=metric_definitions,\n",
    "                            max_jobs=50,\n",
    "                            max_parallel_jobs=10,\n",
    "                            base_tuning_job_name='tfm-v3-training')"
   ]
  },
  {
   "cell_type": "code",
   "execution_count": 16,
   "id": "19b999cb-f488-4376-b0fd-770fa4a63935",
   "metadata": {},
   "outputs": [
    {
     "name": "stderr",
     "output_type": "stream",
     "text": [
      "/opt/conda/lib/python3.8/site-packages/sagemaker/workflow/pipeline_context.py:159: UserWarning: Running within a PipelineSession, there will be No Wait, No Logs, and No Job being started.\n",
      "  warnings.warn(\n"
     ]
    }
   ],
   "source": [
    "# Define tuning step\n",
    "step_train_rl = TuningStep(\n",
    "    name = \"TFM-V3-Training\",\n",
    "    step_args = rl_tuner.fit(inputs={\n",
    "        \"train\": TrainingInput(\n",
    "            s3_data=gp.logreg_model_train_data_path,input_mode='File',\n",
    "        ),\n",
    "        \"booking_curves\": TrainingInput(\n",
    "            s3_data=gp.logreg_model_path,input_mode='File',\n",
    "        ),\n",
    "    })\n",
    "    )\n",
    "step_train_rl.add_depends_on([step_process_rl])"
   ]
  },
  {
   "cell_type": "markdown",
   "id": "6d6f2fee-7e7e-40bd-82d9-66bd0efc25f4",
   "metadata": {},
   "source": [
    "# Step 9: Evaluate RL training convergence"
   ]
  },
  {
   "cell_type": "code",
   "execution_count": 17,
   "id": "0ce17825-c3c7-499c-8ccf-59186b3bc0d6",
   "metadata": {},
   "outputs": [],
   "source": [
    "# Get container image\n",
    "image_uri = sagemaker.image_uris.retrieve(\n",
    "    framework=\"xgboost\",\n",
    "    region=region,\n",
    "    version=\"1.0-1\",\n",
    "    py_version=\"py3\",\n",
    "    instance_type=\"ml.m5.xlarge\"\n",
    ")\n",
    "\n",
    "# Define evaluation script processor\n",
    "script_eval_rl = ScriptProcessor(\n",
    "    image_uri=image_uri,\n",
    "    command=[\"python3\"],\n",
    "    instance_type=\"ml.m5.xlarge\",\n",
    "    instance_count=1,\n",
    "    base_job_name=\"script-tfm-rl-eval\",\n",
    "    role=role,\n",
    ")\n",
    "\n",
    "# Define evaluation report objetct for the script processor\n",
    "evaluation_report_rl = PropertyFile(\n",
    "    name=\"EvaluationReport\",\n",
    "    output_name=\"evaluation\",\n",
    "    path=\"evaluation.json\"\n",
    ")"
   ]
  },
  {
   "cell_type": "code",
   "execution_count": 18,
   "id": "52c1b24f-fe68-4122-b2a8-c5118a72cc33",
   "metadata": {},
   "outputs": [],
   "source": [
    "# Define evaluation step\n",
    "step_eval_rl = ProcessingStep(\n",
    "    name=\"TFM-V3-Eval-RL\",\n",
    "    processor=script_eval_rl,\n",
    "    outputs=[\n",
    "        ProcessingOutput(output_name=\"evaluation\", source=\"/opt/ml/processing/evaluation\"),\n",
    "    ],\n",
    "    code=\"src/pipeline/evaluation.py\",\n",
    "    property_files=[evaluation_report_rl],\n",
    ")\n",
    "\n",
    "step_eval_rl.add_depends_on([step_train_rl])"
   ]
  },
  {
   "cell_type": "markdown",
   "id": "4e48bfcb-c4ed-4c3f-98d1-bf150cb79f1f",
   "metadata": {},
   "source": [
    "# Step 10: Define fail step if criteria is not met"
   ]
  },
  {
   "cell_type": "code",
   "execution_count": 19,
   "id": "d5dff332-0f7f-4a9b-943e-bcbe4c500876",
   "metadata": {},
   "outputs": [],
   "source": [
    "# Condition is based on the p-vaule obtained from the statistical test for the training convergence\n",
    "step_fail_rl = FailStep(\n",
    "    name=\"TFM-V3-Failed-Training-Convergence\",\n",
    "    error_message=Join(\n",
    "        on=\" \", \n",
    "        values=[\"Execution failed due to training convergence p-value <\", JsonGet(\n",
    "        step_name=step_eval_rl.name,\n",
    "        property_file=evaluation_report_rl,\n",
    "        json_path=\"reward_mean_convergence_metrics.statistical_test.p_value\"\n",
    "    )]\n",
    "    ),\n",
    ")"
   ]
  },
  {
   "cell_type": "markdown",
   "id": "5131ff31-7a34-414e-a0d9-af3b7c9ee523",
   "metadata": {},
   "source": [
    "# Step 11: Define a Condition Step to Verify Model training convergence"
   ]
  },
  {
   "cell_type": "code",
   "execution_count": 20,
   "id": "b044b249-b199-4995-a900-0b4c3b60262c",
   "metadata": {},
   "outputs": [],
   "source": [
    "# Get the evaluation json and parse the statistical test result\n",
    "cond_lte_rl = ConditionLessThanOrEqualTo(\n",
    "    right=JsonGet(\n",
    "        step_name=step_eval_rl.name,\n",
    "        property_file=evaluation_report_rl,\n",
    "        json_path=\"reward_mean_convergence_metrics.statistical_test.p_value\"\n",
    "    ),\n",
    "    left=0.05 # 5% significance level\n",
    ")"
   ]
  },
  {
   "cell_type": "code",
   "execution_count": 21,
   "id": "3746d9d3-8f2e-4eff-a5d8-a4e622b044a0",
   "metadata": {},
   "outputs": [],
   "source": [
    "# Definition of the condition step\n",
    "step_cond_rl = ConditionStep(\n",
    "    name=\"Training-Convergence-Evaluation\",\n",
    "    conditions=[cond_lte_rl],\n",
    "    if_steps=[],\n",
    "    else_steps=[step_fail_rl], \n",
    ")\n",
    "\n",
    "step_cond_rl.add_depends_on([step_eval_rl])"
   ]
  },
  {
   "cell_type": "markdown",
   "id": "4c374e5c-4170-4c2d-8b57-2e5a34aea3f1",
   "metadata": {},
   "source": [
    "# Step 12: Create a pipeline"
   ]
  },
  {
   "cell_type": "code",
   "execution_count": 22,
   "id": "189b17b4-b5c8-4814-921d-e2ba0ae866d2",
   "metadata": {},
   "outputs": [],
   "source": [
    "# Pipeline definition\n",
    "pipeline_name = f\"TFM-v3-pipeline\"\n",
    "pipeline = Pipeline(\n",
    "     name=pipeline_name,\n",
    "     parameters=[\n",
    "         processing_instance_count,\n",
    "         input_data,\n",
    "         input_source_code\n",
    "        \n",
    "     ],\n",
    "    steps=[step_process, step_train, step_eval, step_cond, step_train_rl, step_eval_rl, step_cond_rl]\n",
    ")"
   ]
  },
  {
   "cell_type": "markdown",
   "id": "05a5ebe9-4544-4fb9-a721-b8ed9ee22e23",
   "metadata": {},
   "source": [
    "# Step 13: Start the Pipeline\n",
    "Examine the JSON pipeline definition to ensure that it's well-formed."
   ]
  },
  {
   "cell_type": "code",
   "execution_count": 23,
   "id": "e83d670d-ed59-43e3-bb20-4684b423574b",
   "metadata": {
    "tags": []
   },
   "outputs": [
    {
     "data": {
      "text/plain": [
       "{'Version': '2020-12-01',\n",
       " 'Metadata': {},\n",
       " 'Parameters': [{'Name': 'ProcessingInstanceCount',\n",
       "   'Type': 'Integer',\n",
       "   'DefaultValue': 1},\n",
       "  {'Name': 'InputData',\n",
       "   'Type': 'String',\n",
       "   'DefaultValue': 's3://sagemaker-eu-central-1-961105418118/tfm-v3/tfm_data_last_365_days.csv'},\n",
       "  {'Name': 'SourceCode',\n",
       "   'Type': 'String',\n",
       "   'DefaultValue': 's3://sagemaker-eu-central-1-961105418118/tfm-v3'}],\n",
       " 'PipelineExperimentConfig': {'ExperimentName': {'Get': 'Execution.PipelineName'},\n",
       "  'TrialName': {'Get': 'Execution.PipelineExecutionId'}},\n",
       " 'Steps': [{'Name': 'Process-TFM-data',\n",
       "   'Type': 'Processing',\n",
       "   'Arguments': {'ProcessingResources': {'ClusterConfig': {'InstanceType': 'ml.m5.xlarge',\n",
       "      'InstanceCount': {'Get': 'Parameters.ProcessingInstanceCount'},\n",
       "      'VolumeSizeInGB': 30}},\n",
       "    'AppSpecification': {'ImageUri': '492215442770.dkr.ecr.eu-central-1.amazonaws.com/sagemaker-scikit-learn:0.23-1-cpu-py3',\n",
       "     'ContainerEntrypoint': ['python3',\n",
       "      '/opt/ml/processing/input/code/booking_curve_preprocessing.py']},\n",
       "    'RoleArn': 'arn:aws:iam::961105418118:role/service-role/AmazonSageMaker-ExecutionRole-20220907T114308',\n",
       "    'ProcessingInputs': [{'InputName': 'input-1',\n",
       "      'AppManaged': False,\n",
       "      'S3Input': {'S3Uri': {'Get': 'Parameters.InputData'},\n",
       "       'LocalPath': '/opt/ml/processing/input/data',\n",
       "       'S3DataType': 'S3Prefix',\n",
       "       'S3InputMode': 'File',\n",
       "       'S3DataDistributionType': 'FullyReplicated',\n",
       "       'S3CompressionType': 'None'}},\n",
       "     {'InputName': 'input-2',\n",
       "      'AppManaged': False,\n",
       "      'S3Input': {'S3Uri': {'Get': 'Parameters.SourceCode'},\n",
       "       'LocalPath': '/opt/ml/processing/input/code/src',\n",
       "       'S3DataType': 'S3Prefix',\n",
       "       'S3InputMode': 'File',\n",
       "       'S3DataDistributionType': 'FullyReplicated',\n",
       "       'S3CompressionType': 'None'}},\n",
       "     {'InputName': 'code',\n",
       "      'AppManaged': False,\n",
       "      'S3Input': {'S3Uri': 's3://sagemaker-eu-central-1-961105418118/Process-TFM-data-23f6dce48b621fe453a6f96bcefd84ea/input/code/booking_curve_preprocessing.py',\n",
       "       'LocalPath': '/opt/ml/processing/input/code',\n",
       "       'S3DataType': 'S3Prefix',\n",
       "       'S3InputMode': 'File',\n",
       "       'S3DataDistributionType': 'FullyReplicated',\n",
       "       'S3CompressionType': 'None'}}],\n",
       "    'ProcessingOutputConfig': {'Outputs': [{'OutputName': 'train',\n",
       "       'AppManaged': False,\n",
       "       'S3Output': {'S3Uri': 's3://sagemaker-eu-central-1-961105418118/Process-TFM-data-23f6dce48b621fe453a6f96bcefd84ea/output/train',\n",
       "        'LocalPath': '/opt/ml/processing/train',\n",
       "        'S3UploadMode': 'EndOfJob'}}]}}},\n",
       "  {'Name': 'Fit-booking-curves',\n",
       "   'Type': 'Processing',\n",
       "   'Arguments': {'ProcessingResources': {'ClusterConfig': {'InstanceType': 'ml.m5.xlarge',\n",
       "      'InstanceCount': {'Get': 'Parameters.ProcessingInstanceCount'},\n",
       "      'VolumeSizeInGB': 30}},\n",
       "    'AppSpecification': {'ImageUri': '492215442770.dkr.ecr.eu-central-1.amazonaws.com/sagemaker-scikit-learn:0.23-1-cpu-py3',\n",
       "     'ContainerEntrypoint': ['python3',\n",
       "      '/opt/ml/processing/input/code/extract_booking_curves.py']},\n",
       "    'RoleArn': 'arn:aws:iam::961105418118:role/service-role/AmazonSageMaker-ExecutionRole-20220907T114308',\n",
       "    'ProcessingInputs': [{'InputName': 'input-1',\n",
       "      'AppManaged': False,\n",
       "      'S3Input': {'S3Uri': {'Get': \"Steps.Process-TFM-data.ProcessingOutputConfig.Outputs['train'].S3Output.S3Uri\"},\n",
       "       'LocalPath': '/opt/ml/processing/train',\n",
       "       'S3DataType': 'S3Prefix',\n",
       "       'S3InputMode': 'File',\n",
       "       'S3DataDistributionType': 'FullyReplicated',\n",
       "       'S3CompressionType': 'None'}},\n",
       "     {'InputName': 'input-2',\n",
       "      'AppManaged': False,\n",
       "      'S3Input': {'S3Uri': {'Get': 'Parameters.SourceCode'},\n",
       "       'LocalPath': '/opt/ml/processing/input/code/src',\n",
       "       'S3DataType': 'S3Prefix',\n",
       "       'S3InputMode': 'File',\n",
       "       'S3DataDistributionType': 'FullyReplicated',\n",
       "       'S3CompressionType': 'None'}},\n",
       "     {'InputName': 'code',\n",
       "      'AppManaged': False,\n",
       "      'S3Input': {'S3Uri': 's3://sagemaker-eu-central-1-961105418118/Fit-booking-curves-8561d44eb3d9feca0e670b9dfbe49d39/input/code/extract_booking_curves.py',\n",
       "       'LocalPath': '/opt/ml/processing/input/code',\n",
       "       'S3DataType': 'S3Prefix',\n",
       "       'S3InputMode': 'File',\n",
       "       'S3DataDistributionType': 'FullyReplicated',\n",
       "       'S3CompressionType': 'None'}}]}},\n",
       "  {'Name': 'TFM-V3-Eval-Booking-Curves',\n",
       "   'Type': 'Processing',\n",
       "   'Arguments': {'ProcessingResources': {'ClusterConfig': {'InstanceType': 'ml.m5.xlarge',\n",
       "      'InstanceCount': 1,\n",
       "      'VolumeSizeInGB': 30}},\n",
       "    'AppSpecification': {'ImageUri': '492215442770.dkr.ecr.eu-central-1.amazonaws.com/sagemaker-xgboost:1.0-1-cpu-py3',\n",
       "     'ContainerEntrypoint': ['python3',\n",
       "      '/opt/ml/processing/input/code/evaluation-booking-curves.py']},\n",
       "    'RoleArn': 'arn:aws:iam::961105418118:role/service-role/AmazonSageMaker-ExecutionRole-20220907T114308',\n",
       "    'ProcessingInputs': [{'InputName': 'code',\n",
       "      'AppManaged': False,\n",
       "      'S3Input': {'S3Uri': 's3://sagemaker-eu-central-1-961105418118/TFM-V3-Eval-Booking-Curves-aa4e4c844fec866bfb420775c2b3bc6a/input/code/evaluation-booking-curves.py',\n",
       "       'LocalPath': '/opt/ml/processing/input/code',\n",
       "       'S3DataType': 'S3Prefix',\n",
       "       'S3InputMode': 'File',\n",
       "       'S3DataDistributionType': 'FullyReplicated',\n",
       "       'S3CompressionType': 'None'}}],\n",
       "    'ProcessingOutputConfig': {'Outputs': [{'OutputName': 'evaluation',\n",
       "       'AppManaged': False,\n",
       "       'S3Output': {'S3Uri': 's3://sagemaker-eu-central-1-961105418118/TFM-V3-Eval-Booking-Curves-aa4e4c844fec866bfb420775c2b3bc6a/output/evaluation',\n",
       "        'LocalPath': '/opt/ml/processing/evaluation',\n",
       "        'S3UploadMode': 'EndOfJob'}}]}},\n",
       "   'DependsOn': ['Fit-booking-curves'],\n",
       "   'PropertyFiles': [{'PropertyFileName': 'EvaluationReport',\n",
       "     'OutputName': 'evaluation',\n",
       "     'FilePath': 'evaluation.json'}]},\n",
       "  {'Name': 'Training-Recall-Evaluation',\n",
       "   'Type': 'Condition',\n",
       "   'Arguments': {'Conditions': [{'Type': 'LessThanOrEqualTo',\n",
       "      'LeftValue': 0.7,\n",
       "      'RightValue': {'Std:JsonGet': {'PropertyFile': {'Get': 'Steps.TFM-V3-Eval-Booking-Curves.PropertyFiles.EvaluationReport'},\n",
       "        'Path': 'booking_curve_metrics.performance_metrics.training_recall_score'}}}],\n",
       "    'IfSteps': [{'Name': 'Load-RL-Dependencies',\n",
       "      'Type': 'Processing',\n",
       "      'Arguments': {'ProcessingResources': {'ClusterConfig': {'InstanceType': 'ml.m5.xlarge',\n",
       "         'InstanceCount': {'Get': 'Parameters.ProcessingInstanceCount'},\n",
       "         'VolumeSizeInGB': 30}},\n",
       "       'AppSpecification': {'ImageUri': '492215442770.dkr.ecr.eu-central-1.amazonaws.com/sagemaker-scikit-learn:0.23-1-cpu-py3',\n",
       "        'ContainerEntrypoint': ['python3',\n",
       "         '/opt/ml/processing/input/code/preprocessing-rl.py']},\n",
       "       'RoleArn': 'arn:aws:iam::961105418118:role/service-role/AmazonSageMaker-ExecutionRole-20220907T114308',\n",
       "       'ProcessingInputs': [{'InputName': 'input-1',\n",
       "         'AppManaged': False,\n",
       "         'S3Input': {'S3Uri': {'Get': 'Parameters.InputData'},\n",
       "          'LocalPath': '/opt/ml/processing/input/data',\n",
       "          'S3DataType': 'S3Prefix',\n",
       "          'S3InputMode': 'File',\n",
       "          'S3DataDistributionType': 'FullyReplicated',\n",
       "          'S3CompressionType': 'None'}},\n",
       "        {'InputName': 'input-2',\n",
       "         'AppManaged': False,\n",
       "         'S3Input': {'S3Uri': {'Get': 'Parameters.SourceCode'},\n",
       "          'LocalPath': '/opt/ml/processing/input/code/src',\n",
       "          'S3DataType': 'S3Prefix',\n",
       "          'S3InputMode': 'File',\n",
       "          'S3DataDistributionType': 'FullyReplicated',\n",
       "          'S3CompressionType': 'None'}},\n",
       "        {'InputName': 'input-3',\n",
       "         'AppManaged': False,\n",
       "         'S3Input': {'S3Uri': {'Get': \"Steps.TFM-V3-Eval-Booking-Curves.ProcessingOutputConfig.Outputs['evaluation'].S3Output.S3Uri\"},\n",
       "          'LocalPath': '/opt/ml/processing/evaluation',\n",
       "          'S3DataType': 'S3Prefix',\n",
       "          'S3InputMode': 'File',\n",
       "          'S3DataDistributionType': 'FullyReplicated',\n",
       "          'S3CompressionType': 'None'}},\n",
       "        {'InputName': 'code',\n",
       "         'AppManaged': False,\n",
       "         'S3Input': {'S3Uri': 's3://sagemaker-eu-central-1-961105418118/Load-RL-Dependencies-5690f10b83fed739c2538a0642504cdb/input/code/preprocessing-rl.py',\n",
       "          'LocalPath': '/opt/ml/processing/input/code',\n",
       "          'S3DataType': 'S3Prefix',\n",
       "          'S3InputMode': 'File',\n",
       "          'S3DataDistributionType': 'FullyReplicated',\n",
       "          'S3CompressionType': 'None'}}],\n",
       "       'ProcessingOutputConfig': {'Outputs': [{'OutputName': 'markup_probability_prediction',\n",
       "          'AppManaged': False,\n",
       "          'S3Output': {'S3Uri': 's3://sagemaker-eu-central-1-961105418118/Load-RL-Dependencies-5690f10b83fed739c2538a0642504cdb/output/markup_probability_prediction',\n",
       "           'LocalPath': '/opt/ml/processing/quality_check',\n",
       "           'S3UploadMode': 'EndOfJob'}}]}}}],\n",
       "    'ElseSteps': [{'Name': 'TFM-V3-Failed-Recall-Standard',\n",
       "      'Type': 'Fail',\n",
       "      'Arguments': {'ErrorMessage': {'Std:Join': {'On': ' ',\n",
       "         'Values': ['Execution failed due to recall value <',\n",
       "          {'Std:JsonGet': {'PropertyFile': {'Get': 'Steps.TFM-V3-Eval-Booking-Curves.PropertyFiles.EvaluationReport'},\n",
       "            'Path': 'booking_curve_metrics.performance_metrics.training_recall_score'}}]}}}}]},\n",
       "   'DependsOn': ['TFM-V3-Eval-Booking-Curves']},\n",
       "  {'Name': 'TFM-V3-Training',\n",
       "   'Type': 'Tuning',\n",
       "   'Arguments': {'HyperParameterTuningJobConfig': {'Strategy': 'Bayesian',\n",
       "     'ResourceLimits': {'MaxNumberOfTrainingJobs': 50,\n",
       "      'MaxParallelTrainingJobs': 10},\n",
       "     'TrainingJobEarlyStoppingType': 'Off',\n",
       "     'HyperParameterTuningJobObjective': {'Type': 'Maximize',\n",
       "      'MetricName': 'episode_reward_mean'},\n",
       "     'ParameterRanges': {'ContinuousParameterRanges': [{'Name': 'gamma',\n",
       "        'MinValue': '0.01',\n",
       "        'MaxValue': '0.99',\n",
       "        'ScalingType': 'Auto'},\n",
       "       {'Name': 'lr',\n",
       "        'MinValue': '0.0001',\n",
       "        'MaxValue': '0.001',\n",
       "        'ScalingType': 'Auto'}],\n",
       "      'CategoricalParameterRanges': [],\n",
       "      'IntegerParameterRanges': []}},\n",
       "    'TrainingJobDefinition': {'StaticHyperParameters': {'tracking_uri': '\"http://mll-mlflow-development-1-72adb7f6eb3c1c02.elb.eu-central-1.amazonaws.com\"',\n",
       "      'experiment_name': '\"tfm-v3-rlestimator+mlflow+pipelines\"',\n",
       "      'training_iteration': '50',\n",
       "      'horizon': '100',\n",
       "      's3_bucket_output': '\"sagemaker-eu-central-1-961105418118\"',\n",
       "      'sagemaker_submit_directory': '\"s3://sagemaker-eu-central-1-961105418118/rl-market-simulator-2022-10-10-15-08-44-270/source/sourcedir.tar.gz\"',\n",
       "      'sagemaker_program': '\"./pipeline/train_rl_agent-new.py\"',\n",
       "      'sagemaker_container_log_level': '20',\n",
       "      'sagemaker_job_name': '\"rl-market-simulator-2022-10-10-15-08-44-270\"',\n",
       "      'sagemaker_region': '\"eu-central-1\"',\n",
       "      'sagemaker_s3_output': '\"s3://sagemaker-eu-central-1-961105418118/\"',\n",
       "      'sagemaker_estimator': '\"RLEstimator\"',\n",
       "      'sagemaker_estimator_class_name': '\"RLEstimator\"',\n",
       "      'sagemaker_estimator_module': '\"sagemaker.rl.estimator\"'},\n",
       "     'RoleArn': 'arn:aws:iam::961105418118:role/service-role/AmazonSageMaker-ExecutionRole-20220907T114308',\n",
       "     'OutputDataConfig': {'S3OutputPath': 's3://sagemaker-eu-central-1-961105418118/'},\n",
       "     'ResourceConfig': {'InstanceCount': 1,\n",
       "      'InstanceType': 'ml.m5.large',\n",
       "      'VolumeSizeInGB': 30},\n",
       "     'StoppingCondition': {'MaxRuntimeInSeconds': 7200,\n",
       "      'MaxWaitTimeInSeconds': 7200},\n",
       "     'AlgorithmSpecification': {'TrainingInputMode': 'File',\n",
       "      'MetricDefinitions': [{'Name': 'episode_reward_mean',\n",
       "        'Regex': 'episode_reward_mean: ([-+]?[0-9]*[.]?[0-9]+([eE][-+]?[0-9]+)?)'},\n",
       "       {'Name': 'episode_reward_max',\n",
       "        'Regex': 'episode_reward_max: ([-+]?[0-9]*[.]?[0-9]+([eE][-+]?[0-9]+)?)'},\n",
       "       {'Name': 'episode_reward_min',\n",
       "        'Regex': 'episode_reward_min: ([-+]?[0-9]*[.]?[0-9]+([eE][-+]?[0-9]+)?)'},\n",
       "       {'Name': 'training_iteration',\n",
       "        'Regex': 'training_iteration: ([-+]?[0-9]*[.]?[0-9]+([eE][-+]?[0-9]+)?)'},\n",
       "       {'Name': 'entropy',\n",
       "        'Regex': 'entropy: ([-+]?[0-9]*[.]?[0-9]+([eE][-+]?[0-9]+)?)'}],\n",
       "      'TrainingImage': '462105765813.dkr.ecr.eu-central-1.amazonaws.com/sagemaker-rl-ray-container:ray-1.6.0-tf-cpu-py37'},\n",
       "     'InputDataConfig': [{'DataSource': {'S3DataSource': {'S3DataType': 'S3Prefix',\n",
       "         'S3Uri': 's3://sagemaker-eu-central-1-961105418118/tfm-v3/processed_x_train_data_mlflow.csv',\n",
       "         'S3DataDistributionType': 'FullyReplicated'}},\n",
       "       'InputMode': 'File',\n",
       "       'ChannelName': 'train'},\n",
       "      {'DataSource': {'S3DataSource': {'S3DataType': 'S3Prefix',\n",
       "         'S3Uri': 's3://sagemaker-eu-central-1-961105418118/tfm-v3/model.pkl',\n",
       "         'S3DataDistributionType': 'FullyReplicated'}},\n",
       "       'InputMode': 'File',\n",
       "       'ChannelName': 'booking_curves'}],\n",
       "     'EnableManagedSpotTraining': True}},\n",
       "   'DependsOn': ['Load-RL-Dependencies']},\n",
       "  {'Name': 'TFM-V3-Eval-RL',\n",
       "   'Type': 'Processing',\n",
       "   'Arguments': {'ProcessingResources': {'ClusterConfig': {'InstanceType': 'ml.m5.xlarge',\n",
       "      'InstanceCount': 1,\n",
       "      'VolumeSizeInGB': 30}},\n",
       "    'AppSpecification': {'ImageUri': '492215442770.dkr.ecr.eu-central-1.amazonaws.com/sagemaker-xgboost:1.0-1-cpu-py3',\n",
       "     'ContainerEntrypoint': ['python3',\n",
       "      '/opt/ml/processing/input/code/evaluation.py']},\n",
       "    'RoleArn': 'arn:aws:iam::961105418118:role/service-role/AmazonSageMaker-ExecutionRole-20220907T114308',\n",
       "    'ProcessingInputs': [{'InputName': 'code',\n",
       "      'AppManaged': False,\n",
       "      'S3Input': {'S3Uri': 's3://sagemaker-eu-central-1-961105418118/TFM-V3-Eval-RL-c05d8f56dd15e8fcbb61189f888028c9/input/code/evaluation.py',\n",
       "       'LocalPath': '/opt/ml/processing/input/code',\n",
       "       'S3DataType': 'S3Prefix',\n",
       "       'S3InputMode': 'File',\n",
       "       'S3DataDistributionType': 'FullyReplicated',\n",
       "       'S3CompressionType': 'None'}}],\n",
       "    'ProcessingOutputConfig': {'Outputs': [{'OutputName': 'evaluation',\n",
       "       'AppManaged': False,\n",
       "       'S3Output': {'S3Uri': 's3://sagemaker-eu-central-1-961105418118/TFM-V3-Eval-RL-c05d8f56dd15e8fcbb61189f888028c9/output/evaluation',\n",
       "        'LocalPath': '/opt/ml/processing/evaluation',\n",
       "        'S3UploadMode': 'EndOfJob'}}]}},\n",
       "   'DependsOn': ['TFM-V3-Training'],\n",
       "   'PropertyFiles': [{'PropertyFileName': 'EvaluationReport',\n",
       "     'OutputName': 'evaluation',\n",
       "     'FilePath': 'evaluation.json'}]},\n",
       "  {'Name': 'Training-Convergence-Evaluation',\n",
       "   'Type': 'Condition',\n",
       "   'Arguments': {'Conditions': [{'Type': 'LessThanOrEqualTo',\n",
       "      'LeftValue': 0.05,\n",
       "      'RightValue': {'Std:JsonGet': {'PropertyFile': {'Get': 'Steps.TFM-V3-Eval-RL.PropertyFiles.EvaluationReport'},\n",
       "        'Path': 'reward_mean_convergence_metrics.statistical_test.p_value'}}}],\n",
       "    'IfSteps': [],\n",
       "    'ElseSteps': [{'Name': 'TFM-V3-Failed-Training-Convergence',\n",
       "      'Type': 'Fail',\n",
       "      'Arguments': {'ErrorMessage': {'Std:Join': {'On': ' ',\n",
       "         'Values': ['Execution failed due to training convergence p-value <',\n",
       "          {'Std:JsonGet': {'PropertyFile': {'Get': 'Steps.TFM-V3-Eval-RL.PropertyFiles.EvaluationReport'},\n",
       "            'Path': 'reward_mean_convergence_metrics.statistical_test.p_value'}}]}}}}]},\n",
       "   'DependsOn': ['TFM-V3-Eval-RL']}]}"
      ]
     },
     "execution_count": 23,
     "metadata": {},
     "output_type": "execute_result"
    }
   ],
   "source": [
    "json.loads(pipeline.definition())"
   ]
  },
  {
   "cell_type": "markdown",
   "id": "4db7c419-f2ee-437e-864f-2ff86341a8ab",
   "metadata": {},
   "source": [
    "Submit the pipeline definition to the SageMaker Pipelines service to create a pipeline if it doesn't exist, or update the pipeline if it does. The role passed in is used by SageMaker Pipelines to create all of the jobs defined in the steps."
   ]
  },
  {
   "cell_type": "code",
   "execution_count": 24,
   "id": "ec188073-c4d9-4450-ba80-68b94745231b",
   "metadata": {
    "tags": []
   },
   "outputs": [
    {
     "data": {
      "text/plain": [
       "{'PipelineArn': 'arn:aws:sagemaker:eu-central-1:961105418118:pipeline/tfm-v3-pipeline',\n",
       " 'ResponseMetadata': {'RequestId': 'bdb8d03d-8ec5-436d-818d-6e0bfa2a1e66',\n",
       "  'HTTPStatusCode': 200,\n",
       "  'HTTPHeaders': {'x-amzn-requestid': 'bdb8d03d-8ec5-436d-818d-6e0bfa2a1e66',\n",
       "   'content-type': 'application/x-amz-json-1.1',\n",
       "   'content-length': '86',\n",
       "   'date': 'Mon, 10 Oct 2022 15:09:04 GMT'},\n",
       "  'RetryAttempts': 0}}"
      ]
     },
     "execution_count": 24,
     "metadata": {},
     "output_type": "execute_result"
    }
   ],
   "source": [
    "pipeline.upsert(role_arn=role)"
   ]
  },
  {
   "cell_type": "markdown",
   "id": "6813b96c-87b6-4dde-9f49-514420677614",
   "metadata": {},
   "source": [
    "Start a pipeline execution."
   ]
  },
  {
   "cell_type": "code",
   "execution_count": 25,
   "id": "edca9d7c-343f-4f78-8d11-794d8e911f39",
   "metadata": {},
   "outputs": [],
   "source": [
    "execution = pipeline.start()"
   ]
  },
  {
   "cell_type": "markdown",
   "id": "a7a61fd8-a3c7-4c60-bdef-96903f2a9e7d",
   "metadata": {},
   "source": [
    "Check steps execution"
   ]
  },
  {
   "cell_type": "code",
   "execution_count": 31,
   "id": "11e6bbc9-0031-466f-8a3a-fc20bc4c0908",
   "metadata": {},
   "outputs": [
    {
     "data": {
      "text/plain": [
       "[{'StepName': 'Training-Convergence-Evaluation',\n",
       "  'StartTime': datetime.datetime(2022, 10, 10, 19, 31, 58, 474000, tzinfo=tzlocal()),\n",
       "  'EndTime': datetime.datetime(2022, 10, 10, 19, 31, 58, 748000, tzinfo=tzlocal()),\n",
       "  'StepStatus': 'Succeeded',\n",
       "  'AttemptCount': 0,\n",
       "  'Metadata': {'Condition': {'Outcome': 'True'}}},\n",
       " {'StepName': 'TFM-V3-Eval-RL',\n",
       "  'StartTime': datetime.datetime(2022, 10, 10, 19, 27, 41, 169000, tzinfo=tzlocal()),\n",
       "  'EndTime': datetime.datetime(2022, 10, 10, 19, 31, 57, 956000, tzinfo=tzlocal()),\n",
       "  'StepStatus': 'Succeeded',\n",
       "  'AttemptCount': 0,\n",
       "  'Metadata': {'ProcessingJob': {'Arn': 'arn:aws:sagemaker:eu-central-1:961105418118:processing-job/pipelines-jpiyur3jy65t-tfm-v3-eval-rl-tu3m54nrze'}}},\n",
       " {'StepName': 'TFM-V3-Training',\n",
       "  'StartTime': datetime.datetime(2022, 10, 10, 15, 37, 51, 942000, tzinfo=tzlocal()),\n",
       "  'EndTime': datetime.datetime(2022, 10, 10, 19, 27, 39, 746000, tzinfo=tzlocal()),\n",
       "  'StepStatus': 'Succeeded',\n",
       "  'AttemptCount': 0,\n",
       "  'Metadata': {'TuningJob': {'Arn': 'arn:aws:sagemaker:eu-central-1:961105418118:hyper-parameter-tuning-job/jpiyur3jy65t-tfm-v3--ngh4hk5pyv'}}},\n",
       " {'StepName': 'Load-RL-Dependencies',\n",
       "  'StartTime': datetime.datetime(2022, 10, 10, 15, 25, 57, 357000, tzinfo=tzlocal()),\n",
       "  'EndTime': datetime.datetime(2022, 10, 10, 15, 37, 51, 268000, tzinfo=tzlocal()),\n",
       "  'StepStatus': 'Succeeded',\n",
       "  'AttemptCount': 0,\n",
       "  'Metadata': {'ProcessingJob': {'Arn': 'arn:aws:sagemaker:eu-central-1:961105418118:processing-job/pipelines-jpiyur3jy65t-load-rl-dependencies-vm8tdnvvsi'}}},\n",
       " {'StepName': 'Training-Recall-Evaluation',\n",
       "  'StartTime': datetime.datetime(2022, 10, 10, 15, 25, 56, 109000, tzinfo=tzlocal()),\n",
       "  'EndTime': datetime.datetime(2022, 10, 10, 15, 25, 56, 458000, tzinfo=tzlocal()),\n",
       "  'StepStatus': 'Succeeded',\n",
       "  'AttemptCount': 0,\n",
       "  'Metadata': {'Condition': {'Outcome': 'True'}}},\n",
       " {'StepName': 'TFM-V3-Eval-Booking-Curves',\n",
       "  'StartTime': datetime.datetime(2022, 10, 10, 15, 21, 44, 613000, tzinfo=tzlocal()),\n",
       "  'EndTime': datetime.datetime(2022, 10, 10, 15, 25, 55, 508000, tzinfo=tzlocal()),\n",
       "  'StepStatus': 'Succeeded',\n",
       "  'AttemptCount': 0,\n",
       "  'Metadata': {'ProcessingJob': {'Arn': 'arn:aws:sagemaker:eu-central-1:961105418118:processing-job/pipelines-jpiyur3jy65t-tfm-v3-eval-booking--zam7rrtf6d'}}},\n",
       " {'StepName': 'Fit-booking-curves',\n",
       "  'StartTime': datetime.datetime(2022, 10, 10, 15, 15, 32, 407000, tzinfo=tzlocal()),\n",
       "  'EndTime': datetime.datetime(2022, 10, 10, 15, 21, 43, 801000, tzinfo=tzlocal()),\n",
       "  'StepStatus': 'Succeeded',\n",
       "  'AttemptCount': 0,\n",
       "  'Metadata': {'ProcessingJob': {'Arn': 'arn:aws:sagemaker:eu-central-1:961105418118:processing-job/pipelines-jpiyur3jy65t-fit-booking-curves-zw4jgutqxr'}}},\n",
       " {'StepName': 'Process-TFM-data',\n",
       "  'StartTime': datetime.datetime(2022, 10, 10, 15, 9, 7, 746000, tzinfo=tzlocal()),\n",
       "  'EndTime': datetime.datetime(2022, 10, 10, 15, 15, 32, tzinfo=tzlocal()),\n",
       "  'StepStatus': 'Succeeded',\n",
       "  'AttemptCount': 0,\n",
       "  'Metadata': {'ProcessingJob': {'Arn': 'arn:aws:sagemaker:eu-central-1:961105418118:processing-job/pipelines-jpiyur3jy65t-process-tfm-data-xitttbakmc'}}}]"
      ]
     },
     "execution_count": 31,
     "metadata": {},
     "output_type": "execute_result"
    }
   ],
   "source": [
    "execution.list_steps()"
   ]
  },
  {
   "cell_type": "code",
   "execution_count": null,
   "id": "028a5616-4618-4cac-8e0b-bb13823717f3",
   "metadata": {},
   "outputs": [],
   "source": []
  }
 ],
 "metadata": {
  "instance_type": "ml.t3.medium",
  "kernelspec": {
   "display_name": "Python 3 (Data Science 2.0)",
   "language": "python",
   "name": "python3__SAGEMAKER_INTERNAL__arn:aws:sagemaker:eu-central-1:936697816551:image/sagemaker-data-science-38"
  },
  "language_info": {
   "codemirror_mode": {
    "name": "ipython",
    "version": 3
   },
   "file_extension": ".py",
   "mimetype": "text/x-python",
   "name": "python",
   "nbconvert_exporter": "python",
   "pygments_lexer": "ipython3",
   "version": "3.8.13"
  }
 },
 "nbformat": 4,
 "nbformat_minor": 5
}
